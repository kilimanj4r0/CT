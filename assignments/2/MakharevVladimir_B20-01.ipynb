{
  "cells": [
    {
      "cell_type": "markdown",
      "metadata": {
        "colab_type": "text",
        "id": "view-in-github"
      },
      "source": [
        "<a href=\"https://colab.research.google.com/github/SergeiSa/Control-Theory-Slides-Spring-2022/blob/main/Assignment/Assignment2.ipynb\" target=\"_parent\"><img src=\"https://colab.research.google.com/assets/colab-badge.svg\" alt=\"Open In Colab\"/></a>"
      ]
    },
    {
      "cell_type": "markdown",
      "metadata": {
        "id": "f3Rqy9rRYpGy"
      },
      "source": [
        "# Default state of the Python script and needed functions\n",
        "\n",
        "*It is important to run these code snippets before other*"
      ]
    },
    {
      "cell_type": "code",
      "execution_count": 5,
      "metadata": {
        "id": "6-cABQG2ZMPv"
      },
      "outputs": [],
      "source": [
        "# For transfer function and checking the values obtained during transformation SS -> TF\n",
        "from scipy.signal import ss2tf\n",
        "from control import tf as transfer_func\n",
        "# For LQR method\n",
        "from scipy.linalg import solve_continuous_are, solve_continuous_lyapunov, solve_discrete_lyapunov\n",
        "from control import dlqr\n",
        "# For pole placement method\n",
        "from scipy.signal import place_poles\n",
        "from sympy.printing.latex import latex, print_latex\n",
        "# For Bode plots\n",
        "from control import bode_plot\n",
        "# For basic calculations\n",
        "import numpy as np\n",
        "import sympy as sp\n",
        "sp.init_printing()\n",
        "from numpy.linalg import eig  # Eigenvalues\n",
        "# For integration\n",
        "from scipy.integrate import odeint\n"
      ]
    },
    {
      "cell_type": "code",
      "execution_count": 6,
      "metadata": {
        "id": "zqL7zhZiZFyz"
      },
      "outputs": [],
      "source": [
        "# x_dot from state space with constant U\n",
        "def dxdt(x, t, A, B, u):\n",
        "  return A.dot(x) + B.dot(u)"
      ]
    },
    {
      "cell_type": "code",
      "execution_count": 7,
      "metadata": {
        "id": "jDvZsaYsajt7"
      },
      "outputs": [],
      "source": [
        "# For plotting exactly one plot\n",
        "from matplotlib.pyplot import *\n",
        "\n",
        "def plot1(t, sol, title_str=''):\n",
        "  subplot(121)\n",
        "  plot(t, sol)\n",
        "  if title_str:\n",
        "    title(title_str)\n",
        "  grid(True)\n",
        "  xlabel('Time $t$')\n",
        "  ylabel('State $x(t)$')\n",
        "  show()"
      ]
    },
    {
      "cell_type": "code",
      "execution_count": 8,
      "metadata": {},
      "outputs": [],
      "source": [
        "# sympy rounding for expressions\n",
        "# source: https://stackoverflow.com/a/60284977\n",
        "def round_expr(expr, num_digits):\n",
        "     return expr.xreplace({n.evalf() : n if type(n)==int else sp.Float(n, num_digits) for n in expr.atoms(sp.Number)}) "
      ]
    },
    {
      "cell_type": "code",
      "execution_count": 9,
      "metadata": {},
      "outputs": [],
      "source": [
        "# my number\n",
        "n = 20"
      ]
    },
    {
      "cell_type": "markdown",
      "metadata": {
        "id": "jkpb8xiEzdwR"
      },
      "source": [
        "# Task 1 (5 points)"
      ]
    },
    {
      "cell_type": "markdown",
      "metadata": {},
      "source": [
        "Given a system for $n = 20$:\n",
        "\n",
        "<!-- A = \n",
        "    [0 0 1 0;\n",
        "     0 0 0 1;\n",
        "     n -2 -10/n -2;\n",
        "     -5 -n/10 0 -3]; -->\n",
        "\n",
        "$$ \n",
        "\\begin{cases}\n",
        "\\dot x = \n",
        "\\begin{bmatrix} \n",
        "0 & 0 & 1 & 0 \\\\\n",
        "0 & 0 & 0 & 1 \\\\\n",
        "20 & -2 & -0.5 & -2 \\\\\n",
        "-5 & -2 & 0 & -3\n",
        "\\end{bmatrix}\n",
        "x\n",
        "+ \n",
        "\\begin{bmatrix} \n",
        "0 \\\\\n",
        "0 \\\\\n",
        "-1\\\\\n",
        "1\n",
        "\\end{bmatrix}\n",
        "u \\\\\n",
        "y = \\begin{bmatrix} \n",
        "1 & 1 & 0 & 0\n",
        "\\end{bmatrix} x\n",
        "\\end{cases}\n",
        "$$\n",
        "\n",
        "where $n$ is your number in your group list (ask your TA to give you your number if you don't have one)."
      ]
    },
    {
      "cell_type": "markdown",
      "metadata": {},
      "source": [
        "### 1 Find its transfer function representation ($y(s) / u(s) = W(s)$)."
      ]
    },
    {
      "cell_type": "code",
      "execution_count": 10,
      "metadata": {},
      "outputs": [
        {
          "data": {
            "image/png": "[encoded data removed]",
            "text/latex": [
              "$\\displaystyle \\frac{- 3.6 \\cdot 10^{14} s - 1.5 \\cdot 10^{15}}{8.0 \\cdot 10^{13} s^{4} + 2.8 \\cdot 10^{14} s^{3} - 1.3 \\cdot 10^{15} s^{2} - 5.5 \\cdot 10^{15} s - 4.0 \\cdot 10^{15}}$"
            ],
            "text/plain": [
              "                   -3.6e+14⋅s - 1.5e+15                   \n",
              "──────────────────────────────────────────────────────────\n",
              "         4            3            2                      \n",
              "8.0e+13⋅s  + 2.8e+14⋅s  - 1.3e+15⋅s  - 5.5e+15⋅s - 4.0e+15"
            ]
          },
          "execution_count": 10,
          "metadata": {},
          "output_type": "execute_result"
        }
      ],
      "source": [
        "# Solution using sympy and straightforward algorithm\n",
        "A = sp.Matrix([[0, 0, 1, 0],\n",
        "              [0, 0, 0, 1],\n",
        "              [n, -2, -10/n, -2],\n",
        "              [-5, -n/10, 0, -3]])\n",
        "B = sp.Matrix([[0],\n",
        "              [0],\n",
        "              [-1],\n",
        "              [1]])\n",
        "C = sp.Matrix([[1, 1, 0, 0]])\n",
        "D = sp.Matrix([[0]])\n",
        "s, t = sp.symbols('s, t')\n",
        "Ys = round_expr(sp.simplify(C * (s * sp.eye(4) - A).inv() * B + D), 2)[0]\n",
        "Ys\n"
      ]
    },
    {
      "cell_type": "code",
      "execution_count": 11,
      "metadata": {},
      "outputs": [
        {
          "data": {
            "text/latex": [
              "$$\\frac{5.684 \\times 10^{-14} s^2 - 4.5 s - 19}{s^4 + 3.5 s^3 - 16.5 s^2 - 69 s - 50}$$"
            ],
            "text/plain": [
              "TransferFunction(array([ 5.68434189e-14, -4.50000000e+00, -1.90000000e+01]), array([  1. ,   3.5, -16.5, -69. , -50. ]))"
            ]
          },
          "execution_count": 11,
          "metadata": {},
          "output_type": "execute_result"
        }
      ],
      "source": [
        "# Solution using scipy\n",
        "A = [[0, 0, 1, 0],\n",
        "      [0, 0, 0, 1],\n",
        "      [n, -2, -10/n, -2],\n",
        "      [-5, -n/10, 0, -3]]\n",
        "B = [[0],\n",
        "    [0],\n",
        "    [-1],\n",
        "    [1]]\n",
        "C = [[1, 1, 0, 0]]\n",
        "D = 0\n",
        "tf_num, tf_den = ss2tf(A, B, C, D)\n",
        "transfer_function = transfer_func(tf_num[0], tf_den)\n",
        "transfer_function"
      ]
    },
    {
      "cell_type": "markdown",
      "metadata": {},
      "source": [
        "Let's omit very small coefficient in numerator ($5.684\\cdot10^{-14}$, appears from some error presicion of `scipy`) and match coefficients with straightforward calculations."
      ]
    },
    {
      "cell_type": "code",
      "execution_count": 12,
      "metadata": {},
      "outputs": [
        {
          "data": {
            "image/png": "[encoded data removed]",
            "text/latex": [
              "$\\displaystyle \\frac{- 4.5 s - 19.0}{1.0 s^{4} + 3.5 s^{3} - 17.0 s^{2} - 69.0 s - 50.0}$"
            ],
            "text/plain": [
              "              -4.5⋅s - 19.0              \n",
              "─────────────────────────────────────────\n",
              "     4        3         2                \n",
              "1.0⋅s  + 3.5⋅s  - 17.0⋅s  - 69.0⋅s - 50.0"
            ]
          },
          "execution_count": 12,
          "metadata": {},
          "output_type": "execute_result"
        }
      ],
      "source": [
        "# Matching coefficients with straightforward algorithm and scipy\n",
        "num, den = sp.fraction(Ys)\n",
        "num = round_expr(num * (4.5) / (3.6 * 10**14), 2)\n",
        "den = round_expr(den * (4.5) / (3.6 * 10**14), 2)\n",
        "tf = num/den\n",
        "tf"
      ]
    },
    {
      "cell_type": "markdown",
      "metadata": {},
      "source": [
        "_Remark_: for some reason [Wolframalpha return](https://www.wolframalpha.com/input?i=A%3A+%5B%2F%2Fmath%3A%7B%7B0%2C+0%2C+1%2C+0%7D%2C%7B0%2C+0%2C+0%2C+1%7D%2C%7B20%2C+-2%2C+-0.5%2C+-2%7D%2C%7B5%2C+-2%2C+0%2C+-3%7D%7D%2F%2F%5D+B%3A+%5B%2F%2Fmath%3A%7B%7B0%7D%2C%7B0%7D%2C+%7B-1%7D%2C%7B1%7D%7D%2F%2F%5D+C%3A+%5B%2F%2Fmath%3A%7B%7B1%2C1%2C+0%2C0%7D%7D+%2F%2F%5D+D%3A%5B%2F%2Fmath%3A%7B%7B0%7D%7D%2F%2F%5D) a bit different result, but since the results of straightforward algorithm and scipy are matched I will not use the result of Wolframalpha."
      ]
    },
    {
      "cell_type": "markdown",
      "metadata": {},
      "source": [
        "### 2 Propose an ODE representation of the system.\n"
      ]
    },
    {
      "cell_type": "code",
      "execution_count": 13,
      "metadata": {},
      "outputs": [
        {
          "name": "stdout",
          "output_type": "stream",
          "text": [
            "- 4.5 \\mathcal{L}^{-1}_{s}\\left[s\\right]\\left(t\\right) - 19.0 \\delta\\left(t\\right)\n",
            "- 69.0 \\mathcal{L}^{-1}_{s}\\left[s\\right]\\left(t\\right) - 17.0 \\mathcal{L}^{-1}_{s}\\left[s^{2}\\right]\\left(t\\right) + 3.5 \\mathcal{L}^{-1}_{s}\\left[s^{3}\\right]\\left(t\\right) + 1.0 \\mathcal{L}^{-1}_{s}\\left[s^{4}\\right]\\left(t\\right) - 50.0 \\delta\\left(t\\right)\n"
          ]
        }
      ],
      "source": [
        "def invL(F):\n",
        "    return sp.inverse_laplace_transform(F, s, t)\n",
        "print_latex(invL(num))\n",
        "print_latex(invL(den))\n"
      ]
    },
    {
      "cell_type": "markdown",
      "metadata": {},
      "source": [
        "Numerator: $4.5 \\mathcal{L}^{-1}_{s}\\left[s\\right]\\left(t\\right) + 19.0 \\delta\\left(t\\right)$\n",
        "\n",
        "Denominator: $69.0 \\mathcal{L}^{-1}_{s}\\left[s\\right]\\left(t\\right) + 17.0 \\mathcal{L}^{-1}_{s}\\left[s^{2}\\right]\\left(t\\right) - 3.5 \\mathcal{L}^{-1}_{s}\\left[s^{3}\\right]\\left(t\\right) - 1.0 \\mathcal{L}^{-1}_{s}\\left[s^{4}\\right]\\left(t\\right) + 50.0 \\delta\\left(t\\right)$\n",
        "\n",
        "ODE form:\n",
        "\n",
        "$$ y^{[4]} + 3.5y^{[3]} - 17 \\ddot y - 69 \\dot y - 50 y = - 4.5 \\dot u - 19u$$"
      ]
    },
    {
      "cell_type": "markdown",
      "metadata": {},
      "source": [
        "### 3 Propose a controller (control law $u = -Kx$) that makes the system stable. Do it via pole placement and as an LQR. For LQR show the cost function you chose.\n"
      ]
    },
    {
      "cell_type": "markdown",
      "metadata": {},
      "source": [
        "**Pole placement method**\n",
        "\n",
        "$$ \n",
        "\\begin{cases}\n",
        "\\mathbf{\\dot{x}} = \n",
        "\\begin{bmatrix} \n",
        "0 & 0 & 1 & 0 \\\\\n",
        "0 & 0 & 0 & 1 \\\\\n",
        "20 & -2 & -0.5 & -2 \\\\\n",
        "-5 & -2 & 0 & -3\n",
        "\\end{bmatrix}\n",
        "\\mathbf{x}\n",
        "+ \n",
        "\\begin{bmatrix} \n",
        "0 \\\\\n",
        "0 \\\\\n",
        "-1\\\\\n",
        "1\n",
        "\\end{bmatrix}\n",
        "\\mathbf{u} \\\\\n",
        "\\mathbf{u} = -\\mathbf{K}\\mathbf{x}=-\\begin{bmatrix}\n",
        "k_1 & k_2 & k_3 & k_4\n",
        "\\end{bmatrix}\\mathbf{x}\n",
        "\\end{cases}\n",
        "$$\n",
        "\n",
        "$$\n",
        "\\mathbf{\\dot{x}}=(\\mathbf{A} - \\mathbf{B}\\mathbf{K})\\mathbf{x} = \\mathbf{A}_c\\mathbf{x}=\\begin{bmatrix}\n",
        "0 & 0 & 1 & 0 \\\\\n",
        "0 & 0 & 0 & 1 \\\\\n",
        "k_1+20 & k_2-2 & k_3-0.5 & k_4-2\\\\\n",
        "-k_1-5 & -k_2-2 & -k_3 & -k_4-3\n",
        "\\end{bmatrix}$$\n",
        "\n",
        "$$\n",
        "\\det \\left(\\begin{bmatrix}\n",
        "0 & 0 & 1 & 0 \\\\\n",
        "0 & 0 & 0 & 1 \\\\\n",
        "k_1+20 & k_2-2 & k_3-0.5 & k_4-2\\\\\n",
        "-k_1-5 & -k_2-2 & -k_3 & -k_4-3\n",
        "\\end{bmatrix} - \\begin{bmatrix} \\lambda & 0 & 0 & 0\\\\ \n",
        "0 & \\lambda & 0 & 0\\\\\n",
        "0 & 0 & \\lambda & 0\\\\\n",
        "0 & 0 & 0 & \\lambda\\\\\n",
        "\\end{bmatrix} \\right)=0\n",
        "$$\n",
        "\n",
        "Solving the equation leads to four lambda roots. \n",
        "The system will be stable if $\\operatorname{Re}{\\lambda_i} < 0$. Let's assume that $\\lambda_1=-1$, $\\lambda_2=-2$, $\\lambda_3=-3$, $\\lambda_4=-4$ which we will call poles."
      ]
    },
    {
      "cell_type": "code",
      "execution_count": 14,
      "metadata": {},
      "outputs": [
        {
          "name": "stdout",
          "output_type": "stream",
          "text": [
            "Calculated gains:\n",
            "[[-26.    2.   -4.5   2. ]]\n",
            "\n",
            "Eigen values:\n",
            "[-1. -2. -3. -4.]\n"
          ]
        }
      ],
      "source": [
        "# Pole placement\n",
        "A = np.array([[0, 0, 1, 0],\n",
        "              [0, 0, 0, 1],\n",
        "              [n, -2, -10/n, -2],\n",
        "              [-5, -n/10, 0, -3]])\n",
        "B = np.array([[0],\n",
        "              [0],\n",
        "              [-1],\n",
        "              [1]])\n",
        "P_pp = np.array([-1, -2, -3, -4])\n",
        "\n",
        "pp = place_poles(A, B, P_pp)\n",
        "\n",
        "K_pp = pp.gain_matrix\n",
        "print(f\"Calculated gains:\\n{K_pp}\\n\")\n",
        "# verifying eigenvalues\n",
        "Lambda, Q = eig(A - B.dot(K_pp))\n",
        "print(f\"Eigen values:\\n{Lambda}\")\n"
      ]
    },
    {
      "cell_type": "markdown",
      "metadata": {},
      "source": [
        "Control law is following:\n",
        "$$u = -\\begin{bmatrix}\n",
        "-26 & 2 & -4.5 & 2\n",
        "\\end{bmatrix}\\mathbf{x}$$"
      ]
    },
    {
      "cell_type": "markdown",
      "metadata": {},
      "source": [
        "**Linear quadratic regulator (LQR) method**\n",
        "\n",
        "I choose the following cost functions:\n",
        "\n",
        "performace (state): \n",
        "$$ Q = \n",
        "\\begin{bmatrix} \n",
        "1 & 0 & 0 & 0 \\\\\n",
        "0 & 2 & 0 & 0 \\\\\n",
        "0 & 0 & 3 & 0 \\\\\n",
        "0 & 0 & 0 & 4\n",
        "\\end{bmatrix}\n",
        "$$\n",
        "energy (input):\n",
        "$$\n",
        "R = \n",
        "\\begin{bmatrix} \n",
        "10\n",
        "\\end{bmatrix}\n",
        "$$"
      ]
    },
    {
      "cell_type": "code",
      "execution_count": 15,
      "metadata": {},
      "outputs": [
        {
          "name": "stdout",
          "output_type": "stream",
          "text": [
            "P = \\left[\\begin{matrix}1.2 \\cdot 10^{3} & -78.0 & 2.5 \\cdot 10^{2} & -77.0\\\\-78.0 & 8.0 & -16.0 & 5.2\\\\2.5 \\cdot 10^{2} & -16.0 & 52.0 & -16.0\\\\-77.0 & 5.2 & -16.0 & 5.4\\end{matrix}\\right]\n",
            "K = \\left[\\begin{matrix}-33.0 & 2.1 & -6.8 & 2.1\\end{matrix}\\right]\n"
          ]
        }
      ],
      "source": [
        "# LQR\n",
        "A = np.array([[0, 0, 1, 0],\n",
        "              [0, 0, 0, 1],\n",
        "              [n, -2, -10/n, -2],\n",
        "              [-5, -n/10, 0, -3]])\n",
        "B = np.array([[0],\n",
        "              [0],\n",
        "              [-1],\n",
        "              [1]])\n",
        "Q = np.array([[1, 0, 0, 0],\n",
        "              [0, 2, 0, 0],\n",
        "              [0, 0, 3, 0],\n",
        "              [0, 0, 0, 4]])\n",
        "R = np.array([[10]])\n",
        "P_lqr = solve_continuous_are(A, B, Q, R)\n",
        "K_lqr = (np.linalg.inv(R).dot(B.transpose())).dot(P_lqr)\n",
        "P = round_expr(sp.Matrix(P_lqr), 2)\n",
        "K = round_expr(sp.Matrix(K_lqr), 2)\n",
        "print(r'P = ' + latex(P))\n",
        "print(r'K = ' + latex(K))\n"
      ]
    },
    {
      "cell_type": "markdown",
      "metadata": {},
      "source": [
        "$$\n",
        "P = \\begin{bmatrix}1.2 \\cdot 10^{3} & -78.0 & 2.5 \\cdot 10^{2} & -77.0\\\\-78.0 & 8.0 & -16.0 & 5.2\\\\2.5 \\cdot 10^{2} & -16.0 & 52.0 & -16.0\\\\-77.0 & 5.2 & -16.0 & 5.4\\end{bmatrix}\n",
        "$$\n",
        "\n",
        "$$\n",
        "K = \\begin{bmatrix}-33.0 & 2.1 & -6.8 & 2.1\\end{bmatrix}\n",
        "$$\n",
        "\n",
        "Control law is following:\n",
        "$$u = -\\begin{bmatrix}-33.0 & 2.1 & -6.8 & 2.1\\end{bmatrix}\\mathbf{x}$$"
      ]
    },
    {
      "cell_type": "markdown",
      "metadata": {},
      "source": [
        "### 4 Show stability of the closed-loop system via eigenvalue analysis."
      ]
    },
    {
      "cell_type": "markdown",
      "metadata": {},
      "source": [
        "Using pole placement method we have already know (by our assumption) that real part of eigenvalues is negative, so the system is stable.\n",
        "\n",
        "Let's compute eigenvalues for obtained control low from LQR method:"
      ]
    },
    {
      "cell_type": "code",
      "execution_count": 16,
      "metadata": {},
      "outputs": [
        {
          "name": "stdout",
          "output_type": "stream",
          "text": [
            "\\mathbf{\\lambda} = \\left[\\begin{matrix}-0.99\\\\-2.7\\\\-4.5\\\\-4.1\\end{matrix}\\right]\n"
          ]
        }
      ],
      "source": [
        "A_c = A - B.dot(K_lqr)\n",
        "l, v = eig(A_c)\n",
        "print(r'\\mathbf{\\lambda} = ' + latex(round_expr(sp.Matrix(l), 2)))"
      ]
    },
    {
      "cell_type": "markdown",
      "metadata": {},
      "source": [
        "$$\n",
        "\\mathbf{\\lambda} = \\begin{bmatrix}-0.99\\\\-2.7\\\\-4.5\\\\-4.1\\end{bmatrix}\n",
        "$$\n",
        "So, again real part of eigenvalues is negative, so the system is stable."
      ]
    },
    {
      "cell_type": "markdown",
      "metadata": {},
      "source": [
        "### 5 Find stability margins by analysing Bode diagram for the system.\n"
      ]
    },
    {
      "cell_type": "code",
      "execution_count": 17,
      "metadata": {},
      "outputs": [
        {
          "data": {
            "image/png": "[encoded data removed]",
            "text/plain": [
              "<Figure size 432x288 with 2 Axes>"
            ]
          },
          "metadata": {
            "needs_background": "light"
          },
          "output_type": "display_data"
        }
      ],
      "source": [
        "w, mag, phase = bode_plot(transfer_function, dB=True, margins=True)"
      ]
    },
    {
      "cell_type": "markdown",
      "metadata": {},
      "source": [
        "- As $\\omega \\rightarrow 0$, the magnitude and the phase approach $0$.\n",
        "- As $\\omega \\rightarrow \\infty$, the magnitude approaches $-\\infty$, while the phase approaches $-180°$.\n",
        "\n",
        "The phase margin is $\\infty$ or $180°$ (as the magnitude never reaches $0$) and gain margin is $\\infty dB$ (as the phase never reaches $-180°$)."
      ]
    },
    {
      "cell_type": "markdown",
      "metadata": {},
      "source": [
        "### 6 Simulate closed-loop system."
      ]
    },
    {
      "cell_type": "markdown",
      "metadata": {},
      "source": [
        "Simulation of the system with control. Comparison of Pole placement and LQR methods also provided."
      ]
    },
    {
      "cell_type": "code",
      "execution_count": 18,
      "metadata": {},
      "outputs": [
        {
          "name": "stdout",
          "output_type": "stream",
          "text": [
            "[2.65000000e+01 2.62089928e+01 2.59212394e+01 ... 4.21581881e-08\n",
            " 4.17390834e-08 4.13240502e-08]\n"
          ]
        },
        {
          "data": {
            "image/png": "[encoded data removed]",
            "text/plain": [
              "<Figure size 432x288 with 1 Axes>"
            ]
          },
          "metadata": {
            "needs_background": "light"
          },
          "output_type": "display_data"
        },
        {
          "data": {
            "image/png": "[encoded data removed]",
            "text/plain": [
              "<Figure size 432x288 with 1 Axes>"
            ]
          },
          "metadata": {
            "needs_background": "light"
          },
          "output_type": "display_data"
        }
      ],
      "source": [
        "def control(x, K):\n",
        "    u = -np.dot(K, x)\n",
        "    return u\n",
        "\n",
        "def system_ode(x, t, A, B, K):\n",
        "     u = -np.dot(K, x)\n",
        "     dx = np.dot(A, x) + np.dot(B, u)\n",
        "     return dx\n",
        "\n",
        "def calculate_control(t, x_sol, K):\n",
        "     u = np.zeros(t.shape)\n",
        "     for i in range(len(t)):\n",
        "          u[i] = control(x_sol[i], K)\n",
        "     return u\n",
        "\n",
        "\n",
        "t0 = 0  # Initial time\n",
        "tf = 10  # Final time\n",
        "N = int(2E3)  # Numbers of points in time span\n",
        "t = np.linspace(t0, tf, N)  # Create time span\n",
        "x0 = np.array([1, 1, 1, 1])\n",
        "\n",
        "A = np.array([[0, 0, 1, 0],\n",
        "     [0, 0, 0, 1],\n",
        "     [n, -2, -10/n, -2],\n",
        "     [-5, -n/10, 0, -3]])\n",
        "B = np.array([[0],\n",
        "     [0],\n",
        "     [-1],\n",
        "     [1]])\n",
        "C = np.array([[1, 1, 0, 0]])\n",
        "D = np.array([[0]])\n",
        "\n",
        "\n",
        "\n",
        "# Pole placement\n",
        "x_sol_pp = odeint(system_ode, x0, t, args=(A, B, K_pp))\n",
        "u_pp = calculate_control(t, x_sol_pp, K_pp)\n",
        "print(u_pp)\n",
        "\n",
        "# LQR\n",
        "x_sol_lqr = odeint(system_ode, x0, t, args=(A, B, K_lqr))\n",
        "u_lqr = calculate_control(t, x_sol_lqr, K_lqr)\n",
        "\n",
        "plot(t, u_pp, 'r', linestyle='--', linewidth=2., label=r'Pole placement')\n",
        "plot(t, u_lqr, 'r', linewidth=2., label=r'LQR')\n",
        "legend()\n",
        "grid(color='black', linestyle='--', linewidth=1.0, alpha=0.7)\n",
        "grid(True)\n",
        "ylabel(r'Control signal $u$')\n",
        "xlabel(r'Time $t$')\n",
        "show()\n",
        "\n",
        "plot(t, x_sol_pp[:, 0], 'r', linestyle='--',\n",
        "     linewidth=2., label=r'$x_1$ state (pole placement)')\n",
        "plot(t, x_sol_lqr[:, 0], 'r', linewidth=2., label=r'$x_1$ state (LQR)')\n",
        "plot(t, x_sol_pp[:, 1], 'b', linestyle='--',\n",
        "     linewidth=2., label=r'$x_2$ state (pole placement)')\n",
        "plot(t, x_sol_lqr[:, 1], 'b', linewidth=2., label=r'$x_2$ state (LQR)')\n",
        "plot(t, x_sol_pp[:, 2], 'g', linestyle='--',\n",
        "     linewidth=2., label=r'$x_3$ state (pole placement)')\n",
        "plot(t, x_sol_lqr[:, 2], 'g', linewidth=2., label=r'$x_3$ state (LQR)')\n",
        "plot(t, x_sol_pp[:, 3], 'y', linestyle='--',\n",
        "     linewidth=2., label=r'$x_4$ state (pole placement)')\n",
        "plot(t, x_sol_lqr[:, 3], 'y', linewidth=2., label=r'$x_4$ state (LQR)')\n",
        "legend(loc='upper right')\n",
        "grid(color='black', linestyle='--', linewidth=1.0, alpha=0.7)\n",
        "grid(True)\n",
        "ylabel(r'System state $x$')\n",
        "xlabel(r'Time $t$')\n",
        "show()\n"
      ]
    },
    {
      "cell_type": "markdown",
      "metadata": {},
      "source": [
        "### 7 Modify the control law in such a way that the state of the system converges to $x_0 = \\begin{bmatrix} (2+0.1n)/(n-5) \\\\ 1 \\\\ 0 \\\\ 0 \\end{bmatrix}$. Show resulting control law. Simulate the system and demostrate convergence via graphs of state dynamics and error dynamics."
      ]
    },
    {
      "cell_type": "markdown",
      "metadata": {},
      "source": [
        "For $n = 20$: $x_0 = \\begin{bmatrix} 4/15 \\\\ 1 \\\\ 0 \\\\ 0 \\end{bmatrix}$. I will use $K$ from LQR method."
      ]
    },
    {
      "cell_type": "code",
      "execution_count": 19,
      "metadata": {},
      "outputs": [
        {
          "data": {
            "image/png": "[encoded data removed]",
            "text/plain": [
              "<Figure size 432x288 with 1 Axes>"
            ]
          },
          "metadata": {
            "needs_background": "light"
          },
          "output_type": "display_data"
        },
        {
          "data": {
            "image/png": "[encoded data removed]",
            "text/plain": [
              "<Figure size 432x288 with 1 Axes>"
            ]
          },
          "metadata": {
            "needs_background": "light"
          },
          "output_type": "display_data"
        }
      ],
      "source": [
        "def trajectory():\n",
        "  x_des = np.array([(2+0.1*n)/(n-5), 1, 0, 0])\n",
        "  dx_des = np.array([0, 0, 0, 0])\n",
        "  return x_des, dx_des\n",
        "\n",
        "\n",
        "def StateSpace_trajectory(x, t, A, B, K):\n",
        "  x_des, dx_des = trajectory()\n",
        "  u_ff = np.linalg.pinv(B) @ (dx_des - A @ x_des)\n",
        "  u_fb = - K @ (x-x_des)\n",
        "  u = u_fb + u_ff\n",
        "  return A @ x + B @ u\n",
        "\n",
        "t0 = 0  # Initial time\n",
        "tf = 10  # Final time\n",
        "N = int(2E3)  # Numbers of points in time span\n",
        "t = np.linspace(t0, tf, N)  # Create time span\n",
        "x0 = np.array([1, 1, 1, 1])\n",
        "\n",
        "A = np.array([[0, 0, 1, 0],\n",
        "              [0, 0, 0, 1],\n",
        "              [n, -2, -10/n, -2],\n",
        "              [-5, -n/10, 0, -3]])\n",
        "B = np.array([[0],\n",
        "              [0],\n",
        "              [-1],\n",
        "              [1]])\n",
        "C = np.array([[1, 1, 0, 0]])\n",
        "D = np.array([[0]])\n",
        "\n",
        "x0 = np.array([1, 1, 1, 1])\n",
        "x_des = np.array([(2+0.1*n)/(n-5), 1, 0, 0])\n",
        "\n",
        "x_sol = odeint(StateSpace_trajectory, x0, t, args=(A, B, K_lqr))\n",
        "\n",
        "plot(t, x_sol[:, 0], 'r', linewidth=2.0, label=r'$x_1$ state')\n",
        "plot(t, x_sol[:, 1], 'b', linewidth=2.0, label=r'$x_2$ state')\n",
        "plot(t, x_sol[:, 2], 'g', linewidth=2.0, label=r'$x_3$ state')\n",
        "plot(t, x_sol[:, 3], 'y', linewidth=2.0, label=r'$x_4$ state')\n",
        "legend()\n",
        "grid(color='black', linestyle='--', linewidth=1.0, alpha=0.7)\n",
        "grid(True)\n",
        "xlim([t0, tf])\n",
        "ylabel(r'System state $x$')\n",
        "xlabel(r'Time $t$')\n",
        "show()\n",
        "\n",
        "plot(t, np.abs(x_sol[:, 0] - x_des[0]), 'r', linewidth=2., label=r'$x_1$ error')\n",
        "plot(t, np.abs(x_sol[:, 1] - x_des[1]), 'b', linewidth=2., label=r'$x_2$ error')\n",
        "plot(t, np.abs(x_sol[:, 2] - x_des[2]), 'g', linewidth=2., label=r'$x_3$ error')\n",
        "plot(t, np.abs(x_sol[:, 3] - x_des[3]), 'y', linewidth=2., label=r'$x_4$ error')\n",
        "legend()\n",
        "grid(color='black', linestyle='--', linewidth=1.0, alpha=0.7)\n",
        "grid(True)\n",
        "ylabel(r'Error $e$')\n",
        "xlabel(r'Time $t$')\n",
        "show()\n"
      ]
    },
    {
      "cell_type": "markdown",
      "metadata": {},
      "source": [
        "### 8 Discretize the system with $\\Delta t = 0.01$. Write equations of the discrete dynamics."
      ]
    },
    {
      "cell_type": "markdown",
      "metadata": {},
      "source": [
        "$$\\Delta t = T = 0.01$$\n",
        "$$\n",
        "\\begin{cases} \n",
        "\\mathbf{x} [(k+1)T] = \\mathbf{A_dx} [kT] + \\mathbf{B_du} [kT]\\\\\n",
        "\\mathbf{y} [kT] = \\mathbf{C_dx} [kT] + \\mathbf{D_du} [kT]\n",
        "\\end{cases}\n",
        "$$\n",
        "where\n",
        "*   $\\mathbf{A_d} = (I + T\\mathbf{A})$\n",
        "*   $\\mathbf{B_d} = T\\mathbf{B}$\n",
        "*   $\\mathbf{C_d} = \\mathbf{C}$\n",
        "*   $\\mathbf{D_d} = \\mathbf{D}$\n",
        "\n",
        "$$\n",
        "\\begin{cases}\n",
        "\\mathbf{x} [(k+1)T] = \n",
        "\\begin{bmatrix} \n",
        "1 & 0 & 1 & 0 \\\\\n",
        "0 & 1 & 0 & 1 \\\\\n",
        "0.2 & -0.02 & 0.995 & -0.02 \\\\\n",
        "-0.05 & -0.02 & 0 & 0.97\n",
        "\\end{bmatrix}\n",
        "\\mathbf{x} [kT]\n",
        "+ \n",
        "\\begin{bmatrix} \n",
        "0 \\\\\n",
        "0 \\\\\n",
        "-0.01\\\\\n",
        "0.01\n",
        "\\end{bmatrix}\n",
        "\\mathbf{u} [kT] \\\\\n",
        "\\mathbf{y} [kT] = \\begin{bmatrix} \n",
        "1 & 1 & 0 & 0\n",
        "\\end{bmatrix} \\mathbf{x} [kT]\n",
        "\\end{cases}\n",
        "$$\n"
      ]
    },
    {
      "cell_type": "markdown",
      "metadata": {},
      "source": [
        "### 9 Propose a control law for the discrete system via pole-placement and LQR (show cost function for the LQR)."
      ]
    },
    {
      "cell_type": "markdown",
      "metadata": {},
      "source": [
        "**Pole placement method**\n",
        "\n",
        "$$ \n",
        "\\begin{cases}\n",
        "\\mathbf{x} [(k+1)T] = \n",
        "\\begin{bmatrix} \n",
        "1 & 0 & 1 & 0 \\\\\n",
        "0 & 1 & 0 & 1 \\\\\n",
        "0.2 & -0.02 & 0.995 & -0.02 \\\\\n",
        "-0.05 & -0.02 & 0 & 0.97\n",
        "\\end{bmatrix}\n",
        "\\mathbf{x} [kT]\n",
        "+ \n",
        "\\begin{bmatrix} \n",
        "0 \\\\\n",
        "0 \\\\\n",
        "-0.01\\\\\n",
        "0.01\n",
        "\\end{bmatrix}\n",
        "\\mathbf{u} [kT] \\\\\n",
        "\\mathbf{u} [kT] =- \\mathbf{Kx} [kT]= - \\begin{bmatrix}\n",
        "k_1 & k_2 & k_3 & k_4\n",
        "\\end{bmatrix} \\mathbf{x} [kT]\n",
        "\\end{cases}\n",
        "$$\n",
        "\n",
        "$$\n",
        "\\mathbf{x} [(k+1)T]=(\\mathbf{A_d} - \\mathbf{B_d}\\mathbf{K})\\mathbf{x}[kT] =\\begin{bmatrix}\n",
        "1 & 0 & 1 & 0 \\\\\n",
        "0 & 1 & 0 & 1 \\\\\n",
        "0.01k_1+0.2 & 00.1k_2-0.02 & 0.01k_3+0.995 & 0.01k_4-0.02\\\\\n",
        "-0.01k_1-0.05 & -0.01k_2-0.02 & -0.01k_3 & -0.01k_4+0.97\n",
        "\\end{bmatrix}$$\n",
        "\n",
        "$$\n",
        "\\det \\left(\\begin{bmatrix}\n",
        "1 & 0 & 1 & 0 \\\\\n",
        "0 & 1 & 0 & 1 \\\\\n",
        "0.01k_1+0.2 & 00.1k_2-0.02 & 0.01k_3+0.995 & 0.01k_4-0.02\\\\\n",
        "-0.01k_1-0.05 & -0.01k_2-0.02 & -0.01k_3 & -0.01k_4+0.97\n",
        "\\end{bmatrix} - \\begin{bmatrix} \\lambda & 0 & 0 & 0\\\\ \n",
        "0 & \\lambda & 0 & 0\\\\\n",
        "0 & 0 & \\lambda & 0\\\\\n",
        "0 & 0 & 0 & \\lambda\\\\\n",
        "\\end{bmatrix} \\right)=0\n",
        "$$\n",
        "\n",
        "Solving the equation leads to four lambda roots. \n",
        "The system will be stable if $|\\lambda_i| = \\sqrt{\\operatorname{Re}(\\lambda_i)^2 + \\operatorname{Im}(\\lambda_i)^2} \\leq 1,\\forall i$. Let's assume that $\\lambda_1=0.99$, $\\lambda_2=0.98$, $\\lambda_3=0.97$, $\\lambda_4=0.96$ which we will call poles."
      ]
    },
    {
      "cell_type": "code",
      "execution_count": 20,
      "metadata": {},
      "outputs": [
        {
          "name": "stdout",
          "output_type": "stream",
          "text": [
            "Eigenvalues:\n",
            "[0.99 0.98 0.97 0.96]\n",
            "Calculated gains:\n"
          ]
        },
        {
          "data": {
            "image/png": "[encoded data removed]",
            "text/latex": [
              "$\\displaystyle \\left[\\begin{matrix}-26.0 & 2.0 & -4.5 & 2.0\\end{matrix}\\right]$"
            ],
            "text/plain": [
              "[-26.0  2.0  -4.5  2.0]"
            ]
          },
          "execution_count": 20,
          "metadata": {},
          "output_type": "execute_result"
        }
      ],
      "source": [
        "# Pole placement\n",
        "T = 0.01\n",
        "A = np.array([[0, 0, 1, 0],\n",
        "              [0, 0, 0, 1],\n",
        "              [n, -2, -10/n, -2],\n",
        "              [-5, -n/10, 0, -3]])\n",
        "\n",
        "B = np.array([[0],\n",
        "              [0],\n",
        "              [-1],\n",
        "              [1]])\n",
        "A_d = np.eye(4) + T * A\n",
        "B_d = T * B\n",
        "P_pp_d = np.array([0.99, 0.98, 0.97, 0.96])\n",
        "K_pp_d = place_poles(A_d, B_d, P_pp_d).gain_matrix\n",
        "# verifying eigenvalues\n",
        "Lambda, _ = eig(A_d - B_d @ K_pp_d)\n",
        "print(f\"Eigenvalues:\\n{Lambda}\")\n",
        "print(f\"Calculated gains:\")\n",
        "round_expr(sp.Matrix(K_pp_d), 2)"
      ]
    },
    {
      "cell_type": "markdown",
      "metadata": {},
      "source": [
        "Control law is the following:\n",
        "$u =  - \\begin{bmatrix}-26 & 2 & -4.5 & 2\\end{bmatrix}\n",
        "\\mathbf{x}$\n"
      ]
    },
    {
      "cell_type": "markdown",
      "metadata": {},
      "source": [
        "**Linear quadratic regulator (LQR) method**\n",
        "\n",
        "I choose the following cost functions:\n",
        "\n",
        "performace (state): \n",
        "$$ Q = \n",
        "\\begin{bmatrix} \n",
        "1 & 0 & 0 & 0 \\\\\n",
        "0 & 2 & 0 & 0 \\\\\n",
        "0 & 0 & 3 & 0 \\\\\n",
        "0 & 0 & 0 & 4\n",
        "\\end{bmatrix}\n",
        "$$\n",
        "energy (input):\n",
        "$$\n",
        "R = \n",
        "\\begin{bmatrix} \n",
        "10\n",
        "\\end{bmatrix}\n",
        "$$"
      ]
    },
    {
      "cell_type": "code",
      "execution_count": 21,
      "metadata": {},
      "outputs": [
        {
          "name": "stdout",
          "output_type": "stream",
          "text": [
            "Calculated gains:\n"
          ]
        },
        {
          "data": {
            "image/png": "[encoded data removed]",
            "text/latex": [
              "$\\displaystyle \\left[\\begin{matrix}-32.0 & 2.1 & -6.6 & 2.1\\end{matrix}\\right]$"
            ],
            "text/plain": [
              "[-32.0  2.1  -6.6  2.1]"
            ]
          },
          "execution_count": 21,
          "metadata": {},
          "output_type": "execute_result"
        }
      ],
      "source": [
        "# LQR\n",
        "Q = np.array([[1, 0, 0, 0],\n",
        "              [0, 2, 0, 0],\n",
        "              [0, 0, 3, 0],\n",
        "              [0, 0, 0, 4]])\n",
        "R = np.array([[10]])\n",
        "K_lqr_d, _, _ = dlqr(A_d, B_d, Q, R)\n",
        "print(f\"Calculated gains:\")\n",
        "round_expr(sp.Matrix(K_lqr_d), 2)"
      ]
    },
    {
      "cell_type": "markdown",
      "metadata": {},
      "source": [
        "Control law is the following:\n",
        "$u =  - \\begin{bmatrix}-32.0 & 2.1 & -6.6 & 2.1\\end{bmatrix}\n",
        "\\mathbf{x}$"
      ]
    },
    {
      "cell_type": "markdown",
      "metadata": {},
      "source": [
        "### 10 Show eigenvalue analisys of the сlosed-loop dynamics of the discrete system (with the proposed discrete control law). Demonstrate stability."
      ]
    },
    {
      "cell_type": "markdown",
      "metadata": {},
      "source": [
        "Using pole placement method we have already know (by our assumption) that $|\\lambda_i| = \\sqrt{\\operatorname{Re}(\\lambda_i)^2 + \\operatorname{Im}(\\lambda_i)^2} \\leq 1,\\forall i$, so the system is stable.\n",
        "\n",
        "Let's compute eigenvalues for obtained control low from LQR method:"
      ]
    },
    {
      "cell_type": "code",
      "execution_count": 22,
      "metadata": {},
      "outputs": [
        {
          "name": "stdout",
          "output_type": "stream",
          "text": [
            "\\mathbf{\\lambda} = \\left[\\begin{matrix}0.99\\\\0.97\\\\0.96\\\\0.96\\end{matrix}\\right]\n"
          ]
        }
      ],
      "source": [
        "l, v = eig(A_d - B_d @ K_lqr_d)\n",
        "print(r'\\mathbf{\\lambda} = ' + latex(round_expr(sp.Matrix(l), 2)))"
      ]
    },
    {
      "cell_type": "markdown",
      "metadata": {},
      "source": [
        "$$\n",
        "\\mathbf{\\lambda} = \\begin{bmatrix}0.99\\\\0.97\\\\0.96\\\\0.96\\end{bmatrix}\n",
        "$$\n",
        "So, again $|\\lambda_i| = \\sqrt{\\operatorname{Re}(\\lambda_i)^2 + \\operatorname{Im}(\\lambda_i)^2} \\leq 1,\\forall i$, so the system is stable."
      ]
    },
    {
      "cell_type": "markdown",
      "metadata": {},
      "source": [
        "### 11 Simulate the discrete system. Show graphs."
      ]
    },
    {
      "cell_type": "markdown",
      "metadata": {},
      "source": [
        "Simulation of the system with control. Comparison of Pole placement and LQR methods also provided."
      ]
    },
    {
      "cell_type": "code",
      "execution_count": 23,
      "metadata": {},
      "outputs": [
        {
          "data": {
            "image/png": "[encoded data removed]",
            "text/plain": [
              "<Figure size 432x288 with 1 Axes>"
            ]
          },
          "metadata": {
            "needs_background": "light"
          },
          "output_type": "display_data"
        }
      ],
      "source": [
        "t0 = 0  # Initial time\n",
        "tf = 10  # Final time\n",
        "T = 0.01  # Discretization step\n",
        "t = np.arange(t0, tf, T)  # Create time span\n",
        "\n",
        "A = np.array([[0, 0, 1, 0],\n",
        "              [0, 0, 0, 1],\n",
        "              [n, -2, -10/n, -2],\n",
        "              [-5, -n/10, 0, -3]])\n",
        "\n",
        "B = np.array([[0],\n",
        "              [0],\n",
        "              [-1],\n",
        "              [1]])\n",
        "\n",
        "x0 = np.array([1, 1, 1, 1])\n",
        "\n",
        "\n",
        "A_d = np.eye(4) + T * A\n",
        "B_d = T * B\n",
        "\n",
        "x_disc_pp = x0\n",
        "x_disc_lqr = x0\n",
        "\n",
        "x_d = x0\n",
        "x_disc = x0\n",
        "for time in t:\n",
        "  u_d = - K_pp_d @ x_d\n",
        "  x_d = A_d @ x_d + B_d @ u_d\n",
        "  x_disc_pp = np.vstack((x_disc_pp, x_d))\n",
        "\n",
        "x_d = x0\n",
        "x_disc = x0\n",
        "for time in t:\n",
        "  u_d = - K_lqr_d @ x_d\n",
        "  x_d = A_d @ x_d + B_d @ u_d\n",
        "  x_disc_lqr = np.vstack((x_disc_lqr, x_d))\n",
        "\n",
        "t_disc = np.insert(t, 0, 0)\n",
        "\n",
        "step(t_disc, x_disc_pp[:, 0], 'r', linewidth=2.0, label=r'$x_1$ state (PP)')\n",
        "step(t_disc, x_disc_pp[:, 1], 'b', linewidth=2.0, label=r'$x_2$ state (PP)')\n",
        "step(t_disc, x_disc_pp[:, 2], 'g', linewidth=2.0, label=r'$x_3$ state (PP)')\n",
        "step(t_disc, x_disc_pp[:, 3], 'y', linewidth=2.0, label=r'$x_4$ state (PP)')\n",
        "\n",
        "step(t_disc, x_disc_lqr[:, 0], 'r', linestyle='--',\n",
        "     linewidth=2.0, label=r'$x_1$ state (LQR)')\n",
        "step(t_disc, x_disc_lqr[:, 1], 'b', linestyle='--',\n",
        "     linewidth=2.0, label=r'$x_2$ state (LQR)')\n",
        "step(t_disc, x_disc_lqr[:, 2], 'g', linestyle='--',\n",
        "     linewidth=2.0, label=r'$x_3$ state (LQR)')\n",
        "step(t_disc, x_disc_lqr[:, 3], 'y', linestyle='--',\n",
        "     linewidth=2.0, label=r'$x_4$ state (LQR)')\n",
        "legend(loc='upper right')\n",
        "grid(color='black', linestyle='--', linewidth=1.0, alpha = 0.7)\n",
        "grid(True)\n",
        "xlim([t0, tf])\n",
        "ylabel(r'System state $x$')\n",
        "xlabel(r'Time $t$')\n",
        "show()\n"
      ]
    },
    {
      "cell_type": "markdown",
      "metadata": {},
      "source": [
        "### 12 Find Lyapunov function that proves the system's stability (one for continious time and one discrete time versions)."
      ]
    },
    {
      "cell_type": "markdown",
      "metadata": {},
      "source": [
        "Let's find Lyapunov functions (S) for \n",
        "$$Q = \\begin{bmatrix}1 & 0 & 0 & 0 \\\\\n",
        "0 & 1 & 0 & 0 \\\\\n",
        "0 & 0 & 1 & 0 \\\\\n",
        "0 & 0 & 0 & 1 \\end{bmatrix}$$"
      ]
    },
    {
      "cell_type": "code",
      "execution_count": 24,
      "metadata": {},
      "outputs": [
        {
          "name": "stdout",
          "output_type": "stream",
          "text": [
            "Eigenvalues of S:  [4.00291139 3.03376741 0.06287073 0.12106493]\n",
            "S is positive definite?  True\n",
            "S (countinuous):\n"
          ]
        },
        {
          "data": {
            "image/png": "[encoded data removed]",
            "text/latex": [
              "$\\displaystyle \\left[\\begin{matrix}0.36 & 0.37 & -0.5 & 0.79\\\\0.37 & 2.6 & -0.79 & -0.5\\\\-0.5 & -0.79 & 0.94 & -1.2\\\\0.79 & -0.5 & -1.2 & 3.3\\end{matrix}\\right]$"
            ],
            "text/plain": [
              "⎡0.36  0.37   -0.5   0.79⎤\n",
              "⎢                        ⎥\n",
              "⎢0.37   2.6   -0.79  -0.5⎥\n",
              "⎢                        ⎥\n",
              "⎢-0.5  -0.79  0.94   -1.2⎥\n",
              "⎢                        ⎥\n",
              "⎣0.79  -0.5   -1.2   3.3 ⎦"
            ]
          },
          "execution_count": 24,
          "metadata": {},
          "output_type": "execute_result"
        }
      ],
      "source": [
        "T = 0.01  # Discretization step\n",
        "A = np.array([[0, 0, 1, 0],\n",
        "              [0, 0, 0, 1],\n",
        "              [n, -2, -10/n, -2],\n",
        "              [-5, -n/10, 0, -3]])\n",
        "B = np.array([[0],\n",
        "              [0],\n",
        "              [-1],\n",
        "              [1]])\n",
        "# positive definite Q, but with minus because of equation in solve_continuous_lyapunov\n",
        "Q = - np.eye(4)\n",
        "\n",
        "S_c = solve_continuous_lyapunov(A - B @ K_lqr, Q)\n",
        "print(\"Eigenvalues of S: \", eig(S_c)[0])\n",
        "print(\"S is positive definite? \", (eig(S_c)[0] >= 0).all())\n",
        "print(\"S (countinuous):\")\n",
        "round_expr(sp.Matrix(S_c), 2)\n"
      ]
    },
    {
      "cell_type": "markdown",
      "metadata": {},
      "source": [
        "Satisfies $A^TS + SA + Q = 0$."
      ]
    },
    {
      "cell_type": "code",
      "execution_count": 25,
      "metadata": {},
      "outputs": [
        {
          "name": "stdout",
          "output_type": "stream",
          "text": [
            "Eigenvalues of S: [415.07845823 312.78416272   6.84288307  12.3210958 ]\n",
            "S is positive definite?  True\n",
            "S (discrete):\n"
          ]
        },
        {
          "data": {
            "image/png": "[encoded data removed]",
            "text/latex": [
              "$\\displaystyle \\left[\\begin{matrix}37.0 & 38.0 & -51.0 & 82.0\\\\38.0 & 2.7 \\cdot 10^{2} & -81.0 & -52.0\\\\-51.0 & -81.0 & 94.0 & -1.2 \\cdot 10^{2}\\\\82.0 & -52.0 & -1.2 \\cdot 10^{2} & 3.4 \\cdot 10^{2}\\end{matrix}\\right]$"
            ],
            "text/plain": [
              "⎡37.0    38.0    -51.0    82.0  ⎤\n",
              "⎢                               ⎥\n",
              "⎢38.0   2.7e+2   -81.0    -52.0 ⎥\n",
              "⎢                               ⎥\n",
              "⎢-51.0  -81.0    94.0    -1.2e+2⎥\n",
              "⎢                               ⎥\n",
              "⎣82.0   -52.0   -1.2e+2  3.4e+2 ⎦"
            ]
          },
          "execution_count": 25,
          "metadata": {},
          "output_type": "execute_result"
        }
      ],
      "source": [
        "Q = np.eye(4)  # positive definite\n",
        "A_d = np.eye(4) + T * A\n",
        "B_d = T * B\n",
        "S_d = solve_discrete_lyapunov(A_d - B_d @ K_lqr_d, Q)\n",
        "print(\"Eigenvalues of S:\", eig(S_d)[0])\n",
        "print(\"S is positive definite? \", (eig(S_d)[0] >= 0).all())\n",
        "print(\"S (discrete):\")\n",
        "round_expr(sp.Matrix(S_d), 2)\n"
      ]
    },
    {
      "cell_type": "markdown",
      "metadata": {},
      "source": [
        "Satisfies $A^TSA - S = - Q$."
      ]
    },
    {
      "cell_type": "markdown",
      "metadata": {},
      "source": [
        "# Task 2 (4 points)"
      ]
    },
    {
      "cell_type": "markdown",
      "metadata": {},
      "source": [
        "You are given a system:\n",
        "\n",
        "$$ \n",
        "\\begin{cases}\n",
        "\\dot x = \n",
        "\\begin{bmatrix} \n",
        "1 & 5 & -2 \\\\\n",
        "2 & 1 & -3 \\\\\n",
        "-1 & -2 & 7\n",
        "\\end{bmatrix}\n",
        "x\n",
        "+ \n",
        "\\begin{bmatrix} \n",
        "2 \\\\\n",
        "1 \\\\\n",
        "0\n",
        "\\end{bmatrix}\n",
        "u \\\\\n",
        "u = -\\begin{bmatrix} \n",
        "7k & 6k & -50k\n",
        "\\end{bmatrix} x\n",
        "\\end{cases}\n",
        "$$"
      ]
    },
    {
      "cell_type": "markdown",
      "metadata": {
        "id": "cAA7ncyRiR_M"
      },
      "source": [
        "### 1 How do the eigenvalues of the closed-loop system depend on k? Plot the evolution of the eigenvalues on a complex plane, as $k$ changes from 0 to 5. \n",
        "\n",
        "\n"
      ]
    },
    {
      "cell_type": "code",
      "execution_count": 26,
      "metadata": {},
      "outputs": [
        {
          "data": {
            "image/png": "[encoded data removed]",
            "text/plain": [
              "<Figure size 432x288 with 1 Axes>"
            ]
          },
          "metadata": {
            "needs_background": "light"
          },
          "output_type": "display_data"
        }
      ],
      "source": [
        "A = np.array([[1, 5, -2],\n",
        "              [2, 1, -3],\n",
        "              [-1, -2, 7]])\n",
        "B = np.array([[2],\n",
        "              [1],\n",
        "              [0]])\n",
        "k0 = 0\n",
        "kf = 5\n",
        "kstep = 0.01\n",
        "eigs = []\n",
        "\n",
        "for k in np.arange(k0, kf, kstep):\n",
        "     K = np.array([[7*k, 6*k, -50*k]])\n",
        "     lambdas, _ = eig(A - B @ K)\n",
        "     eigs.append(lambdas)\n",
        "eigs = np.array(eigs)\n",
        "ks = np.array([np.arange(k0, kf, kstep), np.arange(k0, kf, kstep),\n",
        "      np.arange(k0, kf, kstep)]).transpose()\n",
        "\n",
        "plot(np.real(eigs), np.imag(eigs), 'o', markersize=1)\n",
        "xlabel(r'Re $eig$')\n",
        "ylabel(r'Im $eig$')\n",
        "show()\n",
        "\n"
      ]
    },
    {
      "cell_type": "markdown",
      "metadata": {},
      "source": [
        "### 2 Chose a value of $k$ that allows the system to be stable. Use bode plot to find stability margins of the closed-loop system."
      ]
    },
    {
      "cell_type": "markdown",
      "metadata": {},
      "source": [
        "- Continuous case"
      ]
    },
    {
      "cell_type": "code",
      "execution_count": 27,
      "metadata": {},
      "outputs": [
        {
          "name": "stdout",
          "output_type": "stream",
          "text": [
            "0.5730000000000001 [-2.44184911+0.j         -0.00907545+7.32684079j -0.00907545-7.32684079j]\n"
          ]
        }
      ],
      "source": [
        "A = np.array([[1, 5, -2],\n",
        "              [2, 1, -3],\n",
        "              [-1, -2, 7]])\n",
        "B = np.array([[2],\n",
        "              [1],\n",
        "              [0]])\n",
        "k0 = 0\n",
        "kf = 5\n",
        "kstep = 0.001\n",
        "\n",
        "for k in np.arange(k0, kf, kstep):\n",
        "     K = np.array([[7*k, 6*k, -50*k]])\n",
        "     lambdas, _ = eig(A - B @ K)\n",
        "     # condition for the continuous system to be stable\n",
        "     if (np.real(lambdas[0]) <= 0 and np.real(lambdas[1]) <= 0 and np.real(lambdas[2]) <= 0):\n",
        "          print(k, lambdas)\n",
        "          break\n"
      ]
    },
    {
      "cell_type": "markdown",
      "metadata": {},
      "source": [
        "So, the first $k$ we have found is $0.573$."
      ]
    },
    {
      "cell_type": "markdown",
      "metadata": {},
      "source": [
        "- Discrete case"
      ]
    },
    {
      "cell_type": "code",
      "execution_count": 28,
      "metadata": {},
      "outputs": [
        {
          "name": "stdout",
          "output_type": "stream",
          "text": [
            "0.729 [0.92301145+0.3843821j 0.92301145-0.3843821j 0.87497709+0.j       ]\n"
          ]
        }
      ],
      "source": [
        "T = 0.05  # discretization step from task 2.3\n",
        "A = np.array([[1, 5, -2],\n",
        "              [2, 1, -3],\n",
        "              [-1, -2, 7]])\n",
        "B = np.array([[2],\n",
        "              [1],\n",
        "              [0]])\n",
        "A_d = np.eye(3) + T * A\n",
        "B_d = T * B\n",
        "k0 = 0\n",
        "kf = 5\n",
        "kstep = 0.001\n",
        "\n",
        "for k in np.arange(k0, kf, kstep):\n",
        "     K = np.array([[7*k, 6*k, -50*k]])\n",
        "     lambdas, _ = eig(A_d - B_d @ K)\n",
        "     # condition for the discrete system to be stable\n",
        "     if (np.abs(lambdas[0]) <= 1 and np.abs(lambdas[1]) <= 1 and np.abs(lambdas[2]) <= 1):\n",
        "          print(k, lambdas)\n",
        "          break\n"
      ]
    },
    {
      "cell_type": "markdown",
      "metadata": {},
      "source": [
        "The second $k$ we have found is $0.729$. So, let's assume that greater $k$ (for example $k=0.9$ will satisfy both cases) and check it:"
      ]
    },
    {
      "cell_type": "code",
      "execution_count": 29,
      "metadata": {},
      "outputs": [
        {
          "name": "stdout",
          "output_type": "stream",
          "text": [
            "Continuous: [-3.21757699+7.69688374j -3.21757699-7.69688374j -2.56484603+0.j        ]\n",
            "Discrete: [0.83912115+0.38484419j 0.83912115-0.38484419j 0.8717577 +0.j        ]\n",
            "K =  [[  6.3   5.4 -45. ]]\n"
          ]
        }
      ],
      "source": [
        "k = 0.9\n",
        "K = np.array([[7*k, 6*k, -50*k]])\n",
        "# continuous system\n",
        "lambdas, _ = eig(A - B @ K)\n",
        "print(\"Continuous:\", lambdas)\n",
        "# continuous system\n",
        "lambdas, _ = eig(A_d - B_d @ K)\n",
        "print(\"Discrete:\", lambdas)\n",
        "print(\"K = \", K)\n"
      ]
    },
    {
      "cell_type": "markdown",
      "metadata": {},
      "source": [
        "So in both cases $k = 0.9$ satisfies the stability conditions. The control law then:\n",
        "$$u = -\\begin{bmatrix}\n",
        "6.3 & 5.4 & -45\n",
        "\\end{bmatrix}\\mathbf{x}$$"
      ]
    },
    {
      "cell_type": "code",
      "execution_count": 30,
      "metadata": {},
      "outputs": [
        {
          "data": {
            "text/latex": [
              "$$\\frac{2 s^2 - 11 s - 29}{s^3 - 9 s^2 - 3 s + 48}$$"
            ],
            "text/plain": [
              "TransferFunction(array([  2., -11., -29.]), array([ 1., -9., -3., 48.]))"
            ]
          },
          "execution_count": 30,
          "metadata": {},
          "output_type": "execute_result"
        },
        {
          "data": {
            "image/png": "[encoded data removed]",
            "text/plain": [
              "<Figure size 432x288 with 2 Axes>"
            ]
          },
          "metadata": {
            "needs_background": "light"
          },
          "output_type": "display_data"
        }
      ],
      "source": [
        "# Solution using scipy and control. Bode plot\n",
        "A = np.array([[1, 5, -2],\n",
        "              [2, 1, -3],\n",
        "              [-1, -2, 7]])\n",
        "B = np.array([[2],\n",
        "              [1],\n",
        "              [0]])\n",
        "C = np.array([[1, 0, 0]])\n",
        "D = 0\n",
        "tf_num, tf_den = ss2tf(A, B, C, D)\n",
        "transfer_function = transfer_func(tf_num[0], tf_den)\n",
        "w, mag, phase = bode_plot(transfer_function, dB=True, margins=True)\n",
        "transfer_function"
      ]
    },
    {
      "cell_type": "markdown",
      "metadata": {},
      "source": [
        "- As $\\omega \\rightarrow 0$, the magnitude approaches $0$, while the phase approach $-180°$.\n",
        "- As $\\omega \\rightarrow \\infty$, the magnitude approaches $-\\infty$, while the phase approaches $-90°$.\n",
        "\n",
        "The phase margin is $\\infty$ or $180°$ (as the magnitude never reaches $0$) and gain margin is $4.38 dB$."
      ]
    },
    {
      "cell_type": "markdown",
      "metadata": {},
      "source": [
        "### 3 Discretize the closed-loop system with $\\Delta t = 0.05$ and simulate both the continues-time and discrete-time versions, show if there is a difference between simulation results."
      ]
    },
    {
      "cell_type": "code",
      "execution_count": 31,
      "metadata": {},
      "outputs": [
        {
          "data": {
            "image/png": "[encoded data removed]",
            "text/plain": [
              "<Figure size 432x288 with 1 Axes>"
            ]
          },
          "metadata": {
            "needs_background": "light"
          },
          "output_type": "display_data"
        },
        {
          "data": {
            "image/png": "[encoded data removed]",
            "text/plain": [
              "<Figure size 432x288 with 1 Axes>"
            ]
          },
          "metadata": {
            "needs_background": "light"
          },
          "output_type": "display_data"
        }
      ],
      "source": [
        "k = 0.9\n",
        "\n",
        "t0 = 0  # Initial time\n",
        "tf = 3  # Final time\n",
        "\n",
        "A = np.array([[1, 5, -2],\n",
        "              [2, 1, -3],\n",
        "              [-1, -2, 7]])\n",
        "B = np.array([[2],\n",
        "              [1],\n",
        "              [0]])\n",
        "K = np.array([[7*k, 6*k, -50*k]])\n",
        "x0 = np.array([1, 1, 1])\n",
        "\n",
        "N = int(2E3)  # Numbers of points in time span\n",
        "t = np.linspace(t0, tf, N)  # Create time span\n",
        "\n",
        "x_sol = odeint(system_ode, x0, t, args=(A, B, K))\n",
        "\n",
        "plot(t, x_sol[:, 0], 'r', linewidth=2., label=r'$x_1$ state')\n",
        "plot(t, x_sol[:, 1], 'b', linewidth=2., label=r'$x_2$ state')\n",
        "plot(t, x_sol[:, 2], 'g', linewidth=2., label=r'$x_3$ state')\n",
        "legend(loc='upper right')\n",
        "grid(color='black', linestyle='--', linewidth=1.0, alpha=0.7)\n",
        "grid(True)\n",
        "title('Continuous')\n",
        "ylabel(r'System state $x$')\n",
        "xlabel(r'Time $t$')\n",
        "show()\n",
        "\n",
        "T = 0.05  # Discretization step\n",
        "t = np.arange(t0, tf, T)  # Create time span\n",
        "A_d = np.eye(3) + T * A\n",
        "B_d = T * B\n",
        "\n",
        "x_d = x0\n",
        "x_disc = x0\n",
        "for time in t:\n",
        "  u_d = - K @ x_d\n",
        "  x_d = A_d @ x_d + B_d @ u_d\n",
        "  x_disc = np.vstack((x_disc, x_d))\n",
        "\n",
        "t_disc = np.insert(t, 0, 0)\n",
        "\n",
        "step(t_disc, x_disc[:, 0], 'r', linewidth=2.0, label=r'$x_1$ state')\n",
        "step(t_disc, x_disc[:, 1], 'b', linewidth=2.0, label=r'$x_2$ state')\n",
        "step(t_disc, x_disc[:, 2], 'g', linewidth=2.0, label=r'$x_3$ state')\n",
        "legend(loc='upper right')\n",
        "grid(color='black', linestyle='--', linewidth=1.0, alpha = 0.7)\n",
        "grid(True)\n",
        "xlim([t0, tf])\n",
        "title('Discrete')\n",
        "ylabel(r'System state $x$')\n",
        "xlabel(r'Time $t$')\n",
        "show()\n"
      ]
    },
    {
      "cell_type": "markdown",
      "metadata": {},
      "source": [
        "So, there is difference in amplitude of the states (in discrete case it is a bit bigger). The discrete case also needs more time to stabilize."
      ]
    },
    {
      "cell_type": "markdown",
      "metadata": {},
      "source": [
        "### 4 What is the smallest value of $k$ that makes the eigenvalues purely real?"
      ]
    },
    {
      "cell_type": "markdown",
      "metadata": {},
      "source": [
        "_Remark_: the system should be stable. Let's brute-force!!!"
      ]
    },
    {
      "cell_type": "code",
      "execution_count": 32,
      "metadata": {},
      "outputs": [
        {
          "name": "stdout",
          "output_type": "stream",
          "text": [
            "1.57735 [-9.87951525 -9.81328994 -2.85419481]\n",
            "1.57735 [0.50602424 0.5093355  0.85729026]\n",
            "K =  [[ 11.04145   9.4641  -78.8675 ]]\n"
          ]
        }
      ],
      "source": [
        "T = 0.05  # Discretization step\n",
        "A = np.array([[1, 5, -2],\n",
        "              [2, 1, -3],\n",
        "              [-1, -2, 7]])\n",
        "B = np.array([[2],\n",
        "              [1],\n",
        "              [0]])\n",
        "A_d = np.eye(3) + T * A\n",
        "B_d = T * B\n",
        "k0 = 0\n",
        "kf = 5\n",
        "kstep = 0.00001\n",
        "\n",
        "for k in np.arange(k0, kf, kstep):\n",
        "    K = np.array([[7*k, 6*k, -50*k]])\n",
        "    lambdas_c, _ = eig(A - B @ K)\n",
        "    lambdas_d, _ = eig(A_d - B_d @ K)\n",
        "    # condition for the continuous and discrete system to be stable and eigenvalues are purely real\n",
        "    if (np.imag(lambdas_c) == 0).all() and (np.imag(lambdas_d) == 0).all() and (np.real(lambdas_c) <= 0).all() and (np.abs(lambdas_d) <= 1).all():\n",
        "        print(k, lambdas_c)\n",
        "        print(k, lambdas_d)\n",
        "        break\n",
        "print(\"K = \", K)\n"
      ]
    },
    {
      "cell_type": "markdown",
      "metadata": {},
      "source": [
        "The smallest value is $k = 1.57735$ that satisfies conditions. The control law then:\n",
        "$$u = -\\begin{bmatrix}\n",
        "11.04145 & 9.4641 & -78.8675\n",
        "\\end{bmatrix}\\mathbf{x}$$"
      ]
    },
    {
      "cell_type": "markdown",
      "metadata": {},
      "source": [
        "# Task 3 (3 points)"
      ]
    },
    {
      "cell_type": "markdown",
      "metadata": {
        "id": "zuVDblL-oMJN"
      },
      "source": [
        "You are given a system:\n",
        "\n",
        "$$ \n",
        "\\begin{cases}\n",
        "\\dot x = \n",
        "\\begin{bmatrix} \n",
        "0 & 1 \\\\\n",
        "1 & 10\n",
        "\\end{bmatrix}\n",
        "x\n",
        "+ \n",
        "\\begin{bmatrix} \n",
        "0 \\\\\n",
        "1\n",
        "\\end{bmatrix}\n",
        "u \\\\\n",
        "u = \n",
        "-\\begin{bmatrix} \n",
        "5k & k\n",
        "\\end{bmatrix} x\n",
        "\\end{cases}\n",
        "$$\n",
        "\n",
        "You can chose any positive value of $k$ to design your controller. What is least-norm control gain (control gain is the matrix $\\begin{bmatrix} 5k & k \\end{bmatrix}$) that makes the system not only be stable, but also exhibit no oscillations in the transient process?"
      ]
    },
    {
      "cell_type": "markdown",
      "metadata": {},
      "source": [
        "Let's define bounds for $k$:\n",
        "- $k$ is positive,\n",
        "- Least-norm control gain means we should find the smallest $k$,\n",
        "- Stable system means for continuous: $\\operatorname{Re}(\\lambda_i) \\leq 0, \\forall i$,\n",
        "- Exhibit no oscillations in the transient process means the eqigenvalues should have zero imaginary part or, in other words, a discriminant greater or equal to zero.\n",
        "\n",
        "Using _pole placement method_, let's find such $k$:"
      ]
    },
    {
      "cell_type": "code",
      "execution_count": 37,
      "metadata": {},
      "outputs": [
        {
          "data": {
            "image/png": "[encoded data removed]",
            "text/latex": [
              "$\\displaystyle k \\geq 2 \\sqrt{74} + 20 \\wedge k > 0 \\wedge k < \\infty$"
            ],
            "text/plain": [
              "k ≥ 2⋅√74 + 20 ∧ k > 0 ∧ k < ∞"
            ]
          },
          "execution_count": 37,
          "metadata": {},
          "output_type": "execute_result"
        }
      ],
      "source": [
        "A = sp.Matrix([[0, 1],\n",
        "              [1, 10]])\n",
        "B = sp.Matrix([[0],\n",
        "              [1]])\n",
        "\n",
        "k, l = sp.symbols('k \\lambda')\n",
        "K = sp.Matrix([[5*k, k]])\n",
        "\n",
        "M = sp.Matrix((A - B @ K) - sp.eye(2) * l)\n",
        "\n",
        "det = M.det()\n",
        "l_1, l_2 = sp.solve(det, l)\n",
        "\n",
        "# condition bounds:\n",
        "positive = sp.solve(k > 0)\n",
        "no_oscillations = sp.solve(sp.discriminant(det, l) >= 0).simplify()  # roots will be purely real\n",
        "stability_1 = sp.solve(l_1 <= 0).simplify()\n",
        "stability_2 = sp.solve(l_2 <= 0).simplify()\n",
        "\n",
        "result = (positive & no_oscillations & stability_1 & stability_2).simplify()\n",
        "result\n"
      ]
    },
    {
      "cell_type": "markdown",
      "metadata": {},
      "source": [
        "Therefore, for $k = 2\\sqrt{74}+20$ we will have the following control gain (it will satisfy all conditions above):\n",
        "$$u = -\\begin{bmatrix}\n",
        "10\\sqrt{74} + 100 & 2\\sqrt{74} + 20\n",
        "\\end{bmatrix}\\mathbf{x} =\n",
        "-\\begin{bmatrix}\n",
        "186.02 & 37.2\n",
        "\\end{bmatrix}\\mathbf{x}$$"
      ]
    }
  ],
  "metadata": {
    "colab": {
      "include_colab_link": true,
      "name": "Assignment2.ipynb",
      "provenance": []
    },
    "kernelspec": {
      "display_name": "Python 3",
      "name": "python3"
    },
    "language_info": {
      "codemirror_mode": {
        "name": "ipython",
        "version": 3
      },
      "file_extension": ".py",
      "mimetype": "text/x-python",
      "name": "python",
      "nbconvert_exporter": "python",
      "pygments_lexer": "ipython3",
      "version": "3.9.7"
    }
  },
  "nbformat": 4,
  "nbformat_minor": 0
}
