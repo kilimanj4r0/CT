{
  "cells": [
    {
      "cell_type": "markdown",
      "metadata": {
        "colab_type": "text",
        "id": "view-in-github"
      },
      "source": [
        "<a href=\"https://colab.research.google.com/github/SergeiSa/Control-Theory-Slides-Spring-2022/blob/main/Assignment/Assignment2.ipynb\" target=\"_parent\"><img src=\"https://colab.research.google.com/assets/colab-badge.svg\" alt=\"Open In Colab\"/></a>"
      ]
    },
    {
      "cell_type": "markdown",
      "metadata": {
        "id": "f3Rqy9rRYpGy"
      },
      "source": [
        "# Default state of the Python script and needed functions\n",
        "\n",
        "*It is important to run these code snippets before other*"
      ]
    },
    {
      "cell_type": "code",
      "execution_count": 37,
      "metadata": {
        "id": "6-cABQG2ZMPv"
      },
      "outputs": [
        {
          "name": "stderr",
          "output_type": "stream",
          "text": [
            "C:\\Users\\newro\\AppData\\Local\\Temp\\ipykernel_23064\\81230711.py:3: DeprecationWarning: Please use `TransferFunction` from the `scipy.signal` namespace, the `scipy.signal.ltisys` namespace is deprecated.\n",
            "  from scipy.signal.ltisys import TransferFunction\n"
          ]
        }
      ],
      "source": [
        "# For transfer function and checking the values obtained during transformation SS -> TF\n",
        "from scipy.signal import ss2tf\n",
        "from scipy.signal.ltisys import TransferFunction\n",
        "# For LQR method\n",
        "from scipy.linalg import solve_continuous_are\n",
        "# For pole placement method\n",
        "from scipy.signal import place_poles\n",
        "from sympy.printing.latex import latex, print_latex, multiline_latex\n",
        "# For basic calculations\n",
        "import numpy as np\n",
        "import sympy as sp\n",
        "sp.init_printing()\n",
        "from numpy.linalg import eig  # Eigenvalues\n",
        "# For integration\n",
        "from scipy.integrate import odeint\n"
      ]
    },
    {
      "cell_type": "code",
      "execution_count": 38,
      "metadata": {
        "id": "zqL7zhZiZFyz"
      },
      "outputs": [],
      "source": [
        "# x_dot from state space with constant U\n",
        "def dxdt(x, t, A, B, u):\n",
        "  return A.dot(x) + B.dot(u)"
      ]
    },
    {
      "cell_type": "code",
      "execution_count": 39,
      "metadata": {
        "id": "jDvZsaYsajt7"
      },
      "outputs": [],
      "source": [
        "# For plotting exactly one plot\n",
        "from matplotlib.pyplot import *\n",
        "\n",
        "def plot1(t, sol, title_str=''):\n",
        "  subplot(121)\n",
        "  plot(t, sol)\n",
        "  if title_str:\n",
        "    title(title_str)\n",
        "  grid(True)\n",
        "  xlabel('Time $t$')\n",
        "  ylabel('State $x(t)$')\n",
        "  show()"
      ]
    },
    {
      "cell_type": "code",
      "execution_count": 40,
      "metadata": {},
      "outputs": [],
      "source": [
        "# sympy rounding for expressions\n",
        "# source: https://stackoverflow.com/a/60284977\n",
        "def round_expr(expr, num_digits):\n",
        "     return expr.xreplace({n.evalf() : n if type(n)==int else sp.Float(n, num_digits) for n in expr.atoms(sp.Number)}) "
      ]
    },
    {
      "cell_type": "code",
      "execution_count": 41,
      "metadata": {},
      "outputs": [],
      "source": [
        "# my number\n",
        "n = 20"
      ]
    },
    {
      "cell_type": "markdown",
      "metadata": {
        "id": "jkpb8xiEzdwR"
      },
      "source": [
        "# Task 1 (5 points)\n",
        "\n",
        "Given a system for $n = 20$:\n",
        "\n",
        "<!-- A = \n",
        "    [0 0 1 0;\n",
        "     0 0 0 1;\n",
        "     n -2 -10/n -2;\n",
        "     -5 -n/10 0 -3]; -->\n",
        "\n",
        "$$ \n",
        "\\begin{cases}\n",
        "\\dot x = \n",
        "\\begin{bmatrix} \n",
        "0 & 0 & 1 & 0 \\\\\n",
        "0 & 0 & 0 & 1 \\\\\n",
        "20 & -2 & -0.5 & -2 \\\\\n",
        "-5 & -2 & 0 & -3\n",
        "\\end{bmatrix}\n",
        "x\n",
        "+ \n",
        "\\begin{bmatrix} \n",
        "0 \\\\\n",
        "0 \\\\\n",
        "-1\\\\\n",
        "1\n",
        "\\end{bmatrix}\n",
        "u \\\\\n",
        "y = \\begin{bmatrix} \n",
        "1 & 1 & 0 & 0\n",
        "\\end{bmatrix} x\n",
        "\\end{cases}\n",
        "$$\n",
        "\n",
        "where $n$ is your number in your group list (ask your TA to give you your number if you don't have one).\n",
        "\n",
        "\n",
        "1. Show eigenvalue analisys of the slosed-loop dynamics of the discrete system (with the proposed discrete control law. Demonstrate stability.\n",
        "\n",
        "\n",
        "1. Find Lyapunov function that proves the system's stability (one for continious time and one discrete time versions).\n",
        "\n",
        "\n",
        "\n",
        "\n"
      ]
    },
    {
      "cell_type": "markdown",
      "metadata": {},
      "source": [
        "1.   Find its transfer function representation ($y(s) / u(s) = W(s)$)."
      ]
    },
    {
      "cell_type": "code",
      "execution_count": 42,
      "metadata": {},
      "outputs": [
        {
          "data": {
            "image/png": "[encoded data removed]",
            "text/latex": [
              "$\\displaystyle \\frac{- 3.6 \\cdot 10^{14} s - 1.5 \\cdot 10^{15}}{8.0 \\cdot 10^{13} s^{4} + 2.8 \\cdot 10^{14} s^{3} - 1.3 \\cdot 10^{15} s^{2} - 5.5 \\cdot 10^{15} s - 4.0 \\cdot 10^{15}}$"
            ],
            "text/plain": [
              "                   -3.6e+14⋅s - 1.5e+15                   \n",
              "──────────────────────────────────────────────────────────\n",
              "         4            3            2                      \n",
              "8.0e+13⋅s  + 2.8e+14⋅s  - 1.3e+15⋅s  - 5.5e+15⋅s - 4.0e+15"
            ]
          },
          "execution_count": 42,
          "metadata": {},
          "output_type": "execute_result"
        }
      ],
      "source": [
        "# Solution using sympy and straightforward algorithm\n",
        "A = sp.Matrix([[0, 0, 1, 0],\n",
        "              [0, 0, 0, 1],\n",
        "              [n, -2, -10/n, -2],\n",
        "              [-5, -n/10, 0, -3]])\n",
        "B = sp.Matrix([[0],\n",
        "              [0],\n",
        "              [-1],\n",
        "              [1]])\n",
        "C = sp.Matrix([[1, 1, 0, 0]])\n",
        "D = sp.Matrix([[0]])\n",
        "s, t = sp.symbols('s, t')\n",
        "Ys = round_expr(sp.simplify(C * (s * sp.eye(4) - A).inv() * B + D), 2)[0]\n",
        "Ys\n"
      ]
    },
    {
      "cell_type": "code",
      "execution_count": 43,
      "metadata": {},
      "outputs": [
        {
          "data": {
            "text/plain": [
              "(array([[ 0.00000000e+00,  0.00000000e+00,  5.68434189e-14,\n",
              "         -4.50000000e+00, -1.90000000e+01]]),\n",
              " array([  1. ,   3.5, -16.5, -69. , -50. ]))"
            ]
          },
          "execution_count": 43,
          "metadata": {},
          "output_type": "execute_result"
        }
      ],
      "source": [
        "# Solution using scipy\n",
        "A = [[0, 0, 1, 0],\n",
        "      [0, 0, 0, 1],\n",
        "      [n, -2, -10/n, -2],\n",
        "      [-5, -n/10, 0, -3]]\n",
        "B = [[0],\n",
        "    [0],\n",
        "    [-1],\n",
        "    [1]]\n",
        "C = [[1, 1, 0, 0]]\n",
        "D = 0\n",
        "tf = ss2tf(A, B, C, D)\n",
        "W = ss2tf(A, B, C, D)\n",
        "tf"
      ]
    },
    {
      "cell_type": "code",
      "execution_count": 44,
      "metadata": {},
      "outputs": [
        {
          "data": {
            "image/png": "[encoded data removed]",
            "text/latex": [
              "$\\displaystyle \\frac{- 4.5 s - 19.0}{1.0 s^{4} + 3.5 s^{3} - 17.0 s^{2} - 69.0 s - 50.0}$"
            ],
            "text/plain": [
              "              -4.5⋅s - 19.0              \n",
              "─────────────────────────────────────────\n",
              "     4        3         2                \n",
              "1.0⋅s  + 3.5⋅s  - 17.0⋅s  - 69.0⋅s - 50.0"
            ]
          },
          "execution_count": 44,
          "metadata": {},
          "output_type": "execute_result"
        }
      ],
      "source": [
        "# Matching coefficients with straightforward algorithm and scipy\n",
        "num, den = sp.fraction(Ys)\n",
        "num = round_expr(num * (4.5) / (3.6 * 10**14), 2)\n",
        "den = round_expr(den * (4.5) / (3.6 * 10**14), 2)\n",
        "tf = num/den\n",
        "tf"
      ]
    },
    {
      "cell_type": "markdown",
      "metadata": {},
      "source": [
        "_Remark_: for some reason [Wolframalpha return](https://www.wolframalpha.com/input?i=A%3A+%5B%2F%2Fmath%3A%7B%7B0%2C+0%2C+1%2C+0%7D%2C%7B0%2C+0%2C+0%2C+1%7D%2C%7B20%2C+-2%2C+-0.5%2C+-2%7D%2C%7B5%2C+-2%2C+0%2C+-3%7D%7D%2F%2F%5D+B%3A+%5B%2F%2Fmath%3A%7B%7B0%7D%2C%7B0%7D%2C+%7B-1%7D%2C%7B1%7D%7D%2F%2F%5D+C%3A+%5B%2F%2Fmath%3A%7B%7B1%2C1%2C+0%2C0%7D%7D+%2F%2F%5D+D%3A%5B%2F%2Fmath%3A%7B%7B0%7D%7D%2F%2F%5D) a bit different result, but since the results of straightforward algorithm and scipy are matched I will not use the result of Wolframalpha."
      ]
    },
    {
      "cell_type": "markdown",
      "metadata": {},
      "source": [
        "2.   Propose an ODE representation of the system.\n"
      ]
    },
    {
      "cell_type": "code",
      "execution_count": 45,
      "metadata": {},
      "outputs": [
        {
          "name": "stdout",
          "output_type": "stream",
          "text": [
            "- 4.5 \\mathcal{L}^{-1}_{s}\\left[s\\right]\\left(t\\right) - 19.0 \\delta\\left(t\\right)\n",
            "- 69.0 \\mathcal{L}^{-1}_{s}\\left[s\\right]\\left(t\\right) - 17.0 \\mathcal{L}^{-1}_{s}\\left[s^{2}\\right]\\left(t\\right) + 3.5 \\mathcal{L}^{-1}_{s}\\left[s^{3}\\right]\\left(t\\right) + 1.0 \\mathcal{L}^{-1}_{s}\\left[s^{4}\\right]\\left(t\\right) - 50.0 \\delta\\left(t\\right)\n"
          ]
        }
      ],
      "source": [
        "def invL(F):\n",
        "    return sp.inverse_laplace_transform(F, s, t)\n",
        "print_latex(invL(num))\n",
        "print_latex(invL(den))\n"
      ]
    },
    {
      "cell_type": "markdown",
      "metadata": {},
      "source": [
        "Numerator: $4.5 \\mathcal{L}^{-1}_{s}\\left[s\\right]\\left(t\\right) + 19.0 \\delta\\left(t\\right)$\n",
        "\n",
        "Denominator: $69.0 \\mathcal{L}^{-1}_{s}\\left[s\\right]\\left(t\\right) + 17.0 \\mathcal{L}^{-1}_{s}\\left[s^{2}\\right]\\left(t\\right) - 3.5 \\mathcal{L}^{-1}_{s}\\left[s^{3}\\right]\\left(t\\right) - 1.0 \\mathcal{L}^{-1}_{s}\\left[s^{4}\\right]\\left(t\\right) + 50.0 \\delta\\left(t\\right)$\n",
        "\n",
        "ODE form:\n",
        "\n",
        "$$ y^{[4]} + 3.5y^{[3]} - 17 \\ddot y - 69 \\dot y - 50 y = - 4.5 \\dot u - 19u$$"
      ]
    },
    {
      "cell_type": "markdown",
      "metadata": {},
      "source": [
        "3. Propose a controller (control law $u = -Kx$) that makes the system stable. Do it via pole placement and as an LQR. For LQR show the cost function you chose.\n"
      ]
    },
    {
      "cell_type": "markdown",
      "metadata": {},
      "source": [
        "**Pole placement method**\n",
        "\n",
        "$$ \n",
        "\\begin{cases}\n",
        "\\mathbf{\\dot{x}} = \n",
        "\\begin{bmatrix} \n",
        "0 & 0 & 1 & 0 \\\\\n",
        "0 & 0 & 0 & 1 \\\\\n",
        "20 & -2 & -0.5 & -2 \\\\\n",
        "-5 & -2 & 0 & -3\n",
        "\\end{bmatrix}\n",
        "\\mathbf{x}\n",
        "+ \n",
        "\\begin{bmatrix} \n",
        "0 \\\\\n",
        "0 \\\\\n",
        "-1\\\\\n",
        "1\n",
        "\\end{bmatrix}\n",
        "\\mathbf{u} \\\\\n",
        "\\mathbf{u} = -\\mathbf{K}\\mathbf{x}=-\\begin{bmatrix}\n",
        "k_1 & k_2 & k_3 & k_4\n",
        "\\end{bmatrix}\\mathbf{x}\n",
        "\\end{cases}\n",
        "$$\n",
        "\n",
        "$$\n",
        "\\mathbf{\\dot{x}}=(\\mathbf{A} - \\mathbf{B}\\mathbf{K})\\mathbf{x} = \\mathbf{A}_c\\mathbf{x}=\\begin{bmatrix}\n",
        "0 & 0 & 1 & 0 \\\\\n",
        "0 & 0 & 0 & 1 \\\\\n",
        "k_1+20 & k_2-2 & k_3-0.5 & k_4-2\\\\\n",
        "-k_1-5 & -k_2-2 & -k_3 & -k_4-3\n",
        "\\end{bmatrix}$$\n",
        "\n",
        "$$\n",
        "\\det \\left(\\begin{bmatrix}\n",
        "0 & 0 & 1 & 0 \\\\\n",
        "0 & 0 & 0 & 1 \\\\\n",
        "k_1+20 & k_2-2 & k_3-0.5 & k_4-2\\\\\n",
        "-k_1-5 & -k_2-2 & -k_3 & -k_4-3\n",
        "\\end{bmatrix} - \\begin{bmatrix} \\lambda & 0 & 0 & 0\\\\ \n",
        "0 & \\lambda & 0 & 0\\\\\n",
        "0 & 0 & \\lambda & 0\\\\\n",
        "0 & 0 & 0 & \\lambda\\\\\n",
        "\\end{bmatrix} \\right)=0\n",
        "$$\n",
        "\n",
        "Solving the equation leads to four lambda roots. \n",
        "The system will be stable if $\\operatorname{Re}{\\lambda_i} < 0$. Let's assume that $\\lambda_1=-1$, $\\lambda_2=-2$, $\\lambda_3=-3$, $\\lambda_4=-4$ which we will call poles."
      ]
    },
    {
      "cell_type": "code",
      "execution_count": 46,
      "metadata": {},
      "outputs": [
        {
          "name": "stdout",
          "output_type": "stream",
          "text": [
            "Calculated gains:\n",
            "[[-26.    2.   -4.5   2. ]]\n",
            "\n",
            "Eigen values:\n",
            "[-1. -2. -3. -4.]\n"
          ]
        }
      ],
      "source": [
        "# Pole placement\n",
        "A = np.array([[0, 0, 1, 0],\n",
        "              [0, 0, 0, 1],\n",
        "              [n, -2, -10/n, -2],\n",
        "              [-5, -n/10, 0, -3]])\n",
        "B = np.array([[0],\n",
        "              [0],\n",
        "              [-1],\n",
        "              [1]])\n",
        "P_pp = np.array([-1, -2, -3, -4])\n",
        "\n",
        "pp = place_poles(A, B, P_pp)\n",
        "\n",
        "K_pp = pp.gain_matrix\n",
        "print(f\"Calculated gains:\\n{K_pp}\\n\")\n",
        "# verifying eigenvalues\n",
        "Lambda, Q = eig(A - B.dot(K_pp))\n",
        "print(f\"Eigen values:\\n{Lambda}\")\n"
      ]
    },
    {
      "cell_type": "markdown",
      "metadata": {},
      "source": [
        "Control law is following:\n",
        "$$u = -\\begin{bmatrix}\n",
        "-26 & 2 & -4.5 & 2\n",
        "\\end{bmatrix}\\mathbf{x}$$"
      ]
    },
    {
      "cell_type": "markdown",
      "metadata": {},
      "source": [
        "**Linear quadratic regulator (LQR) method**\n",
        "\n",
        "I choose the following cost functions:\n",
        "\n",
        "performace (state): \n",
        "$$ Q = \n",
        "\\begin{bmatrix} \n",
        "1 & 0 & 0 & 0 \\\\\n",
        "0 & 2 & 0 & 0 \\\\\n",
        "0 & 0 & 3 & 0 \\\\\n",
        "0 & 0 & 0 & 4\n",
        "\\end{bmatrix}\n",
        "$$\n",
        "energy (input):\n",
        "$$\n",
        "R = \n",
        "\\begin{bmatrix} \n",
        "10\n",
        "\\end{bmatrix}\n",
        "$$"
      ]
    },
    {
      "cell_type": "code",
      "execution_count": 47,
      "metadata": {},
      "outputs": [
        {
          "name": "stdout",
          "output_type": "stream",
          "text": [
            "P = \\left[\\begin{matrix}1.2 \\cdot 10^{3} & -78.0 & 2.5 \\cdot 10^{2} & -77.0\\\\-78.0 & 8.0 & -16.0 & 5.2\\\\2.5 \\cdot 10^{2} & -16.0 & 52.0 & -16.0\\\\-77.0 & 5.2 & -16.0 & 5.4\\end{matrix}\\right]\n",
            "K = \\left[\\begin{matrix}1.2 \\cdot 10^{3} & -78.0 & 2.5 \\cdot 10^{2} & -77.0\\\\-78.0 & 8.0 & -16.0 & 5.2\\\\2.5 \\cdot 10^{2} & -16.0 & 52.0 & -16.0\\\\-77.0 & 5.2 & -16.0 & 5.4\\end{matrix}\\right]\n"
          ]
        }
      ],
      "source": [
        "# LQR\n",
        "A = np.array([[0, 0, 1, 0],\n",
        "              [0, 0, 0, 1],\n",
        "              [n, -2, -10/n, -2],\n",
        "              [-5, -n/10, 0, -3]])\n",
        "B = np.array([[0],\n",
        "              [0],\n",
        "              [-1],\n",
        "              [1]])\n",
        "Q = np.array([[1, 0, 0, 0],\n",
        "              [0, 2, 0, 0],\n",
        "              [0, 0, 3, 0],\n",
        "              [0, 0, 0, 4]])\n",
        "R = np.array([[10]])\n",
        "P_lqr = solve_continuous_are(A, B, Q, R)\n",
        "K_lqr = (np.linalg.inv(R).dot(B.transpose())).dot(P_lqr)\n",
        "P = round_expr(sp.Matrix(P_lqr), 2)\n",
        "K = round_expr(sp.Matrix(K_lqr), 2)\n",
        "print(r'P = ' + latex(P))\n",
        "print(r'K = ' + latex(P))\n"
      ]
    },
    {
      "cell_type": "markdown",
      "metadata": {},
      "source": [
        "$$\n",
        "P = \\begin{bmatrix}1.2 \\cdot 10^{3} & -78.0 & 2.5 \\cdot 10^{2} & -77.0\\\\-78.0 & 8.0 & -16.0 & 5.2\\\\2.5 \\cdot 10^{2} & -16.0 & 52.0 & -16.0\\\\-77.0 & 5.2 & -16.0 & 5.4\\end{bmatrix}\n",
        "$$\n",
        "\n",
        "$$\n",
        "K = \\begin{bmatrix}-33.0 & 2.1 & -6.8 & 2.1\\end{bmatrix}\n",
        "$$\n",
        "\n",
        "Control law is following:\n",
        "$$u = -\\begin{bmatrix}-33.0 & 2.1 & -6.8 & 2.1\\end{bmatrix}\\mathbf{x}$$"
      ]
    },
    {
      "cell_type": "markdown",
      "metadata": {},
      "source": [
        "4.   Show stability of the closed-loop system via eigenvalue analysis.\n",
        "\n",
        "Using pole placement method we have already know that real part of eigenvalues is negative, so the system is stable.\n",
        "\n",
        "Let's compute eigenvalues for obtained control low from LQR method:"
      ]
    },
    {
      "cell_type": "code",
      "execution_count": 49,
      "metadata": {},
      "outputs": [
        {
          "name": "stdout",
          "output_type": "stream",
          "text": [
            "\\mathbf{\\lambda} = \\left[\\begin{matrix}-0.99\\\\-2.7\\\\-4.5\\\\-4.1\\end{matrix}\\right]\n"
          ]
        }
      ],
      "source": [
        "A_c = A - B.dot(K_lqr)\n",
        "l, v = eig(A_c)\n",
        "print(r'\\mathbf{\\lambda} = ' + latex(round_expr(sp.Matrix(l), 2)))"
      ]
    },
    {
      "cell_type": "markdown",
      "metadata": {},
      "source": [
        "$$\n",
        "\\mathbf{\\lambda} = \\begin{bmatrix}-0.99\\\\-2.7\\\\-4.5\\\\-4.1\\end{bmatrix}\n",
        "$$\n",
        "So, again real part of eigenvalues is negative, so the system is stable."
      ]
    },
    {
      "cell_type": "markdown",
      "metadata": {},
      "source": [
        "5. Find stability margins by analysing Bode diagram for the system.\n"
      ]
    },
    {
      "cell_type": "code",
      "execution_count": 50,
      "metadata": {},
      "outputs": [
        {
          "name": "stderr",
          "output_type": "stream",
          "text": [
            "C:\\Users\\newro\\AppData\\Roaming\\Python\\Python39\\site-packages\\scipy\\signal\\_filter_design.py:1709: BadCoefficients: Badly conditioned filter coefficients (numerator): the results may be meaningless\n",
            "  warnings.warn(\"Badly conditioned filter coefficients (numerator): the \"\n"
          ]
        },
        {
          "data": {
            "image/png": "[encoded data removed]",
            "text/plain": [
              "<Figure size 432x288 with 2 Axes>"
            ]
          },
          "metadata": {
            "needs_background": "light"
          },
          "output_type": "display_data"
        }
      ],
      "source": [
        "sys = TransferFunction(W[0], W[1])\n",
        "w, mag, phase = sys.bode()\n",
        "\n",
        "f, (ax1, ax2) = subplots(2, 1, sharex=True)\n",
        "title('Bode magnitude/phase')\n",
        "ax1.semilogx(w, mag, color=\"blue\")    # Bode magnitude plot\n",
        "ax1.grid(color='black', linestyle='--', linewidth=1.0, alpha=0.7)\n",
        "ax1.grid(True)\n",
        "\n",
        "ax2.semilogx(w, phase, color=\"blue\")  # Bode phase plot\n",
        "ax2.grid(color='black', linestyle='--', linewidth=1.0, alpha=0.7)\n",
        "ax2.grid(True)\n",
        "xlabel(r'frequency ${\\omega}$')\n",
        "show()\n"
      ]
    },
    {
      "cell_type": "code",
      "execution_count": 51,
      "metadata": {},
      "outputs": [
        {
          "name": "stdout",
          "output_type": "stream",
          "text": [
            "(-4.5*s - 19.0)/(1.0*s**4 + 3.5*s**3 - 17.0*s**2 - 69.0*s - 50.0)\n"
          ]
        },
        {
          "data": {
            "image/png": "[encoded data removed]",
            "text/latex": [
              "$\\displaystyle \\left\\{ j : - \\frac{4.22222222222222}{w}\\right\\}$"
            ],
            "text/plain": [
              "⎧   -4.22222222222222 ⎫\n",
              "⎨j: ──────────────────⎬\n",
              "⎩           w         ⎭"
            ]
          },
          "execution_count": 51,
          "metadata": {},
          "output_type": "execute_result"
        }
      ],
      "source": [
        "# computing bode plot values using transfer function\n",
        "print(tf)\n",
        "# substituting s = jw:\n",
        "j = sp.symbols('j', imaginary=True)\n",
        "w = sp.symbols('w')\n",
        "tf_sol = sp.solve((-4.5*(j * w) - 19.0)/(1.0*(j * w)**4 + 3.5*(j * w)**3 -\n",
        "         17.0*(j * w)**2 - 69.0*j*w - 50.0))[0]\n",
        "tf_sol\n"
      ]
    },
    {
      "cell_type": "markdown",
      "metadata": {},
      "source": [
        "So, $w = 0 + 4.2j$. Therefore, using complex plane representation we can obtain the following:\n",
        "\n",
        "- As $\\omega \\rightarrow 0$, the magnitude and the phase approach $0$.\n",
        "- As $\\omega \\rightarrow \\infty$, the magnitude approaches $-\\infty$, while the phase approaches $-90^\\degree$.\n",
        "\n",
        "Also, the phase margin is around $90\\degree$ and gain margin is around $40dB$."
      ]
    },
    {
      "cell_type": "markdown",
      "metadata": {},
      "source": [
        "6. Simulate closed-loop system.\n",
        "\n",
        "Simulation of the system with control. Comparison of Pole placement and LQR methods also provided."
      ]
    },
    {
      "cell_type": "code",
      "execution_count": 58,
      "metadata": {},
      "outputs": [
        {
          "name": "stdout",
          "output_type": "stream",
          "text": [
            "[2.65000000e+01 2.62089928e+01 2.59212394e+01 ... 4.21581881e-08\n",
            " 4.17390834e-08 4.13240502e-08]\n"
          ]
        },
        {
          "data": {
            "image/png": "[encoded data removed]",
            "text/plain": [
              "<Figure size 432x288 with 1 Axes>"
            ]
          },
          "metadata": {
            "needs_background": "light"
          },
          "output_type": "display_data"
        },
        {
          "data": {
            "image/png": "[encoded data removed]",
            "text/plain": [
              "<Figure size 432x288 with 1 Axes>"
            ]
          },
          "metadata": {
            "needs_background": "light"
          },
          "output_type": "display_data"
        }
      ],
      "source": [
        "def control(x, K):\n",
        "  u = -np.dot(K, x)\n",
        "  return u\n",
        "\n",
        "\n",
        "def system_ode(x, t, A, B, K):\n",
        "    u = control(x, K)\n",
        "    dx = np.dot(A, x) + np.dot(B, u)\n",
        "    return dx\n",
        "\n",
        "def calculate_control(t, x_sol, K):\n",
        "  u = np.zeros(t.shape)\n",
        "  for i in range(len(t)):\n",
        "    u[i] = control(x_sol[i], K)\n",
        "  return u\n",
        "\n",
        "\n",
        "t0 = 0  # Initial time\n",
        "tf = 10  # Final time\n",
        "N = int(2E3)  # Numbers of points in time span\n",
        "t = np.linspace(t0, tf, N)  # Create time span\n",
        "x0 = np.array([1, 1, 1, 1])\n",
        "\n",
        "A = np.array([[0, 0, 1, 0],\n",
        "     [0, 0, 0, 1],\n",
        "     [n, -2, -10/n, -2],\n",
        "     [-5, -n/10, 0, -3]])\n",
        "B = np.array([[0],\n",
        "     [0],\n",
        "     [-1],\n",
        "     [1]])\n",
        "C = np.array([[1, 1, 0, 0]])\n",
        "D = np.array([[0]])\n",
        "\n",
        "\n",
        "\n",
        "# Pole placement\n",
        "x_sol_pp = odeint(system_ode, x0, t, args=(A, B, K_pp))\n",
        "u_pp = calculate_control(t, x_sol_pp, K_pp)\n",
        "print(u_pp)\n",
        "\n",
        "# LQR\n",
        "x_sol_lqr = odeint(system_ode, x0, t, args=(A, B, K_lqr))\n",
        "u_lqr = calculate_control(t, x_sol_lqr, K_lqr)\n",
        "\n",
        "plot(t, u_pp, 'r', linestyle='--', linewidth=2., label=r'Pole placement')\n",
        "plot(t, u_lqr, 'r', linewidth=2., label=r'LQR')\n",
        "legend()\n",
        "grid(color='black', linestyle='--', linewidth=1.0, alpha=0.7)\n",
        "grid(True)\n",
        "ylabel(r'Control signal $u$')\n",
        "xlabel(r'Time $t$')\n",
        "show()\n",
        "\n",
        "plot(t, x_sol_pp[:, 0], 'r', linestyle='--',\n",
        "     linewidth=2., label=r'$x_1$ state (pole placement)')\n",
        "plot(t, x_sol_lqr[:, 0], 'r', linewidth=2., label=r'$x_1$ state (LQR)')\n",
        "plot(t, x_sol_pp[:, 1], 'b', linestyle='--',\n",
        "     linewidth=2., label=r'$x_2$ state (pole placement)')\n",
        "plot(t, x_sol_lqr[:, 1], 'b', linewidth=2., label=r'$x_2$ state (LQR)')\n",
        "plot(t, x_sol_pp[:, 2], 'g', linestyle='--',\n",
        "     linewidth=2., label=r'$x_3$ state (pole placement)')\n",
        "plot(t, x_sol_lqr[:, 2], 'g', linewidth=2., label=r'$x_3$ state (LQR)')\n",
        "plot(t, x_sol_pp[:, 3], 'y', linestyle='--',\n",
        "     linewidth=2., label=r'$x_4$ state (pole placement)')\n",
        "plot(t, x_sol_lqr[:, 3], 'y', linewidth=2., label=r'$x_4$ state (LQR)')\n",
        "legend(loc='upper right')\n",
        "grid(color='black', linestyle='--', linewidth=1.0, alpha=0.7)\n",
        "grid(True)\n",
        "ylabel(r'System state $x$')\n",
        "xlabel(r'Time $t$')\n",
        "show()\n"
      ]
    },
    {
      "cell_type": "markdown",
      "metadata": {},
      "source": [
        "7. Modify the control law in such a way that the state of the system converges to $x_0 = \\begin{bmatrix} (2+0.1n)/(n-5) \\\\ 1 \\\\ 0 \\\\ 0 \\end{bmatrix}$. Show resulting control law. Simulate the system and demostrate convergence via graphs of state dynamics and error dynamics.\n",
        "\n",
        "For $n = 20$: $x_0 = \\begin{bmatrix} 4/15 \\\\ 1 \\\\ 0 \\\\ 0 \\end{bmatrix}$. I will use $K$ from LQR method."
      ]
    },
    {
      "cell_type": "code",
      "execution_count": 77,
      "metadata": {},
      "outputs": [
        {
          "data": {
            "image/png": "[encoded data removed]",
            "text/plain": [
              "<Figure size 432x288 with 1 Axes>"
            ]
          },
          "metadata": {
            "needs_background": "light"
          },
          "output_type": "display_data"
        },
        {
          "data": {
            "image/png": "[encoded data removed]",
            "text/plain": [
              "<Figure size 432x288 with 1 Axes>"
            ]
          },
          "metadata": {
            "needs_background": "light"
          },
          "output_type": "display_data"
        }
      ],
      "source": [
        "def trajectory():\n",
        "  x_des = np.array([(2+0.1*n)/(n-5), 1, 0, 0])\n",
        "  dx_des = np.array([0, 0, 0, 0])\n",
        "  return x_des, dx_des\n",
        "\n",
        "\n",
        "def StateSpace_trajectory(x, t, A, B, K):\n",
        "  x_des, dx_des = trajectory()\n",
        "  u_ff = np.linalg.pinv(B) @ (dx_des - A @ x_des)\n",
        "  u_fb = - K @ (x-x_des)\n",
        "  u = u_fb + u_ff\n",
        "  return A @ x + B @ u\n",
        "\n",
        "t0 = 0  # Initial time\n",
        "tf = 10  # Final time\n",
        "N = int(2E3)  # Numbers of points in time span\n",
        "t = np.linspace(t0, tf, N)  # Create time span\n",
        "x0 = np.array([1, 1, 1, 1])\n",
        "\n",
        "A = np.array([[0, 0, 1, 0],\n",
        "              [0, 0, 0, 1],\n",
        "              [n, -2, -10/n, -2],\n",
        "              [-5, -n/10, 0, -3]])\n",
        "B = np.array([[0],\n",
        "              [0],\n",
        "              [-1],\n",
        "              [1]])\n",
        "C = np.array([[1, 1, 0, 0]])\n",
        "D = np.array([[0]])\n",
        "\n",
        "x0 = np.array([1, 1, 1, 1])\n",
        "x_des = np.array([(2+0.1*n)/(n-5), 1, 0, 0])\n",
        "\n",
        "x_sol = odeint(StateSpace_trajectory, x0, t, args=(A, B, K_lqr))\n",
        "\n",
        "plot(t, x_sol[:, 0], 'r', linewidth=2.0, label=r'$x_1$ state')\n",
        "plot(t, x_sol[:, 1], 'b', linewidth=2.0, label=r'$x_2$ state')\n",
        "plot(t, x_sol[:, 2], 'g', linewidth=2.0, label=r'$x_3$ state')\n",
        "plot(t, x_sol[:, 3], 'y', linewidth=2.0, label=r'$x_4$ state')\n",
        "legend()\n",
        "grid(color='black', linestyle='--', linewidth=1.0, alpha=0.7)\n",
        "grid(True)\n",
        "xlim([t0, tf])\n",
        "ylabel(r'System state $x$')\n",
        "xlabel(r'Time $t$')\n",
        "show()\n",
        "\n",
        "plot(t, np.abs(x_sol[:, 0] - x_des[0]), 'r', linewidth=2., label=r'$x_1$ error')\n",
        "plot(t, np.abs(x_sol[:, 1] - x_des[1]), 'b', linewidth=2., label=r'$x_2$ error')\n",
        "plot(t, np.abs(x_sol[:, 2] - x_des[2]), 'g', linewidth=2., label=r'$x_3$ error')\n",
        "plot(t, np.abs(x_sol[:, 3] - x_des[3]), 'y', linewidth=2., label=r'$x_4$ error')\n",
        "legend()\n",
        "grid(color='black', linestyle='--', linewidth=1.0, alpha=0.7)\n",
        "grid(True)\n",
        "ylabel(r'Error $e$')\n",
        "xlabel(r'Time $t$')\n",
        "show()\n"
      ]
    },
    {
      "cell_type": "markdown",
      "metadata": {},
      "source": [
        "8. Discretize the system with $\\Delta t = 0.01$. Write equations of the discrete dynamics.\n",
        "$$\\Delta t = T = 0.01$$\n",
        "$$\n",
        "\\begin{cases} \n",
        "\\mathbf{x} [(k+1)T] = \\mathbf{A_dx} [kT] + \\mathbf{B_du} [kT]\\\\\n",
        "\\mathbf{y} [kT] = \\mathbf{C_dx} [kT] + \\mathbf{D_du} [kT]\n",
        "\\end{cases} \n",
        "$$\n",
        "where\n",
        "*   $\\mathbf{A_d} = (I + T\\mathbf{A})$\n",
        "*   $\\mathbf{B_d} = T\\mathbf{B}$\n",
        "*   $\\mathbf{C_d} = \\mathbf{C}$\n",
        "*   $\\mathbf{D_d} = \\mathbf{D}$\n",
        "$$ \n",
        "\\begin{cases}\n",
        "\\mathbf{x} [(k+1)T] = \n",
        "\\begin{bmatrix} \n",
        "1 & 0 & 1 & 0 \\\\\n",
        "0 & 1 & 0 & 1 \\\\\n",
        "0.2 & -0.02 & 0.995 & -0.02 \\\\\n",
        "-0.05 & -0.02 & 0 & 0.97\n",
        "\\end{bmatrix}\n",
        "\\mathbf{x} [kT]\n",
        "+ \n",
        "\\begin{bmatrix} \n",
        "0 \\\\\n",
        "0 \\\\\n",
        "-0.01\\\\\n",
        "0.01\n",
        "\\end{bmatrix}\n",
        "\\mathbf{u} [kT] \\\\\n",
        "\\mathbf{y} [kT] = \\begin{bmatrix} \n",
        "1 & 1 & 0 & 0\n",
        "\\end{bmatrix} \\mathbf{x} [kT]\n",
        "\\end{cases}\n",
        "$$\n"
      ]
    },
    {
      "cell_type": "markdown",
      "metadata": {},
      "source": [
        "9. Propose a control law for the discrete system via pole-placement and LQR (show cost function for the LQR)."
      ]
    },
    {
      "cell_type": "markdown",
      "metadata": {},
      "source": [
        "**Pole placement method**\n",
        "\n",
        "$$ \n",
        "\\begin{cases}\n",
        "\\mathbf{x} [(k+1)T] = \n",
        "\\begin{bmatrix} \n",
        "1 & 0 & 1 & 0 \\\\\n",
        "0 & 1 & 0 & 1 \\\\\n",
        "0.2 & -0.02 & 0.995 & -0.02 \\\\\n",
        "-0.05 & -0.02 & 0 & 0.97\n",
        "\\end{bmatrix}\n",
        "\\mathbf{x} [kT]\n",
        "+ \n",
        "\\begin{bmatrix} \n",
        "0 \\\\\n",
        "0 \\\\\n",
        "-0.01\\\\\n",
        "0.01\n",
        "\\end{bmatrix}\n",
        "\\mathbf{u} [kT] \\\\\n",
        "\\mathbf{u} [kT] =- \\mathbf{Kx} [kT]= - \\begin{bmatrix}\n",
        "k_1 & k_2 & k_3 & k_4\n",
        "\\end{bmatrix} \\mathbf{x} [kT]\n",
        "\\end{cases}\n",
        "$$\n",
        "\n",
        "$$\n",
        "\\mathbf{x} [(k+1)T]=(\\mathbf{A_d} - \\mathbf{B_d}\\mathbf{K})\\mathbf{x}[kT] =\\begin{bmatrix}\n",
        "0 & 0 & 1 & 0 \\\\\n",
        "0 & 0 & 0 & 1 \\\\\n",
        "k_1+20 & k_2-2 & k_3-0.5 & k_4-2\\\\\n",
        "-k_1-5 & -k_2-2 & -k_3 & -k_4-3\n",
        "\\end{bmatrix}$$\n",
        "\n",
        "$$\n",
        "\\det \\left(\\begin{bmatrix}\n",
        "0 & 0 & 1 & 0 \\\\\n",
        "0 & 0 & 0 & 1 \\\\\n",
        "k_1+20 & k_2-2 & k_3-0.5 & k_4-2\\\\\n",
        "-k_1-5 & -k_2-2 & -k_3 & -k_4-3\n",
        "\\end{bmatrix} - \\begin{bmatrix} \\lambda & 0 & 0 & 0\\\\ \n",
        "0 & \\lambda & 0 & 0\\\\\n",
        "0 & 0 & \\lambda & 0\\\\\n",
        "0 & 0 & 0 & \\lambda\\\\\n",
        "\\end{bmatrix} \\right)=0\n",
        "$$\n",
        "\n",
        "Solving the equation leads to four lambda roots. \n",
        "The system will be stable if $\\operatorname{Re}{\\lambda_i} < 0$. Let's assume that $\\lambda_1=-1$, $\\lambda_2=-2$, $\\lambda_3=-3$, $\\lambda_4=-4$ which we will call poles."
      ]
    },
    {
      "cell_type": "code",
      "execution_count": 96,
      "metadata": {},
      "outputs": [
        {
          "ename": "ValueError",
          "evalue": "matmul: Input operand 1 has a mismatch in its core dimension 0, with gufunc signature (n?,k),(k,m?)->(n?,m?) (size 4 is different from 1)",
          "output_type": "error",
          "traceback": [
            "\u001b[1;31m---------------------------------------------------------------------------\u001b[0m",
            "\u001b[1;31mValueError\u001b[0m                                Traceback (most recent call last)",
            "\u001b[1;32md:\\Desktop\\CT\\Assignment2.ipynb Cell 38'\u001b[0m in \u001b[0;36m<cell line: 15>\u001b[1;34m()\u001b[0m\n\u001b[0;32m     <a href='vscode-notebook-cell:/d%3A/Desktop/CT/Assignment2.ipynb#ch0000042?line=12'>13</a>\u001b[0m B_d \u001b[39m=\u001b[39m T \u001b[39m*\u001b[39m B\n\u001b[0;32m     <a href='vscode-notebook-cell:/d%3A/Desktop/CT/Assignment2.ipynb#ch0000042?line=13'>14</a>\u001b[0m K \u001b[39m=\u001b[39m np\u001b[39m.\u001b[39marray([k1, k2, k3, k4])\n\u001b[1;32m---> <a href='vscode-notebook-cell:/d%3A/Desktop/CT/Assignment2.ipynb#ch0000042?line=14'>15</a>\u001b[0m (A_d \u001b[39m-\u001b[39m B_d \u001b[39m@\u001b[39;49m K)\n",
            "\u001b[1;31mValueError\u001b[0m: matmul: Input operand 1 has a mismatch in its core dimension 0, with gufunc signature (n?,k),(k,m?)->(n?,m?) (size 4 is different from 1)"
          ]
        }
      ],
      "source": [
        "k1, k2, k3, k4 = sp.symbols('k1 k2 k3 k4')\n",
        "T = 0.01\n",
        "A = np.array([[0, 0, 1, 0],\n",
        "              [0, 0, 0, 1],\n",
        "              [n, -2, -10/n, -2],\n",
        "              [-5, -n/10, 0, -3]])\n",
        "\n",
        "B = np.array([[0],\n",
        "              [0],\n",
        "              [-1],\n",
        "              [1]])\n",
        "A_d = np.eye(4) + T * A\n",
        "B_d = T * B\n",
        "K = np.array([k1, k2, k3, k4])\n",
        "(A_d - B_d @ K)"
      ]
    },
    {
      "cell_type": "markdown",
      "metadata": {},
      "source": [
        "11. Simulate the discrete system. Show graphs.\n",
        "\n",
        "I will use $K$ from LQR method."
      ]
    },
    {
      "cell_type": "code",
      "execution_count": 94,
      "metadata": {},
      "outputs": [
        {
          "name": "stdout",
          "output_type": "stream",
          "text": [
            "[[ 1.     0.     0.01   0.   ]\n",
            " [ 0.     1.     0.     0.01 ]\n",
            " [ 0.2   -0.02   0.995 -0.02 ]\n",
            " [-0.05  -0.02   0.     0.97 ]] [[ 0.  ]\n",
            " [ 0.  ]\n",
            " [-0.01]\n",
            " [ 0.01]]\n"
          ]
        },
        {
          "data": {
            "image/png": "[encoded data removed]",
            "text/plain": [
              "<Figure size 432x288 with 1 Axes>"
            ]
          },
          "metadata": {
            "needs_background": "light"
          },
          "output_type": "display_data"
        }
      ],
      "source": [
        "t0 = 0  # Initial time\n",
        "tf = 10  # Final time\n",
        "T = 0.01  # Discretization step\n",
        "t = np.arange(t0, tf, T)  # Create time span\n",
        "\n",
        "A = np.array([[0, 0, 1, 0],\n",
        "              [0, 0, 0, 1],\n",
        "              [n, -2, -10/n, -2],\n",
        "              [-5, -n/10, 0, -3]])\n",
        "\n",
        "B = np.array([[0],\n",
        "              [0],\n",
        "              [-1],\n",
        "              [1]])\n",
        "\n",
        "x0 = np.array([1, 1, 1, 1])\n",
        "\n",
        "x_d = x0\n",
        "x_disc = x0\n",
        "\n",
        "A_d = np.eye(4) + T * A\n",
        "B_d = T * B\n",
        "# print(A_d, B_d)\n",
        "for time in t:\n",
        "  u_d = - K_lqr @ x_d\n",
        "  x_d = A_d @ x_d + B_d @ u_d\n",
        "  x_disc = np.vstack((x_disc, x_d))\n",
        "\n",
        "t_disc = np.insert(t, 0, 0)\n",
        "\n",
        "step(t_disc, x_disc[:, 0], 'r', linewidth=2.0, label=r'$x_1$ state')\n",
        "step(t_disc, x_disc[:, 1], 'b', linewidth=2.0, label=r'$x_2$ state')\n",
        "step(t_disc, x_disc[:, 2], 'g', linewidth=2.0, label=r'$x_3$ state')\n",
        "step(t_disc, x_disc[:, 3], 'y', linewidth=2.0, label=r'$x_4$ state')\n",
        "legend()\n",
        "grid(color='black', linestyle='--', linewidth=1.0, alpha = 0.7)\n",
        "grid(True)\n",
        "xlim([t0, tf])\n",
        "ylabel(r'System state $x$')\n",
        "xlabel(r'Time $t$')\n",
        "show()"
      ]
    },
    {
      "cell_type": "markdown",
      "metadata": {},
      "source": []
    },
    {
      "cell_type": "markdown",
      "metadata": {
        "id": "cAA7ncyRiR_M"
      },
      "source": [
        "# Task 2 (4 points)\n",
        "\n",
        "You are given a system:\n",
        "\n",
        "$$ \n",
        "\\begin{cases}\n",
        "\\dot x = \n",
        "\\begin{bmatrix} \n",
        "1 & 5 & -2 \\\\\n",
        "2 & 1 & -3 \\\\\n",
        "-1 & -2 & 7\n",
        "\\end{bmatrix}\n",
        "x\n",
        "+ \n",
        "\\begin{bmatrix} \n",
        "2 \\\\\n",
        "1 \\\\\n",
        "0\n",
        "\\end{bmatrix}\n",
        "u \\\\\n",
        "u = -\\begin{bmatrix} \n",
        "7k & 6k & -50k\n",
        "\\end{bmatrix} x\n",
        "\\end{cases}\n",
        "$$\n",
        "\n",
        "1. How do the eigenvalues of the closed-loop system depend on k? Plot the evolution of the eigenvalues on a complex plane, as $k$ changes from 0 to 5. \n",
        "1. Chose a value of $k$ that allows the system to be stable. USe bode plot to find stability margins of teh closed-loop system.\n",
        "1. Discretize the closed-loop system with $\\Delta t = 0.05$ and simulate both the continues-time and discrete-time versions, show if there is a difference between simulation results.\n",
        "1. What is the smallest value of $k$ that makes the eigenvalues purely real?"
      ]
    },
    {
      "cell_type": "markdown",
      "metadata": {
        "id": "zuVDblL-oMJN"
      },
      "source": [
        "# Task 3 (3 points)\n",
        "\n",
        "You are given a system:\n",
        "\n",
        "$$ \n",
        "\\begin{cases}\n",
        "\\dot x = \n",
        "\\begin{bmatrix} \n",
        "0 & 1 \\\\\n",
        "1 & 10\n",
        "\\end{bmatrix}\n",
        "x\n",
        "+ \n",
        "\\begin{bmatrix} \n",
        "0 \\\\\n",
        "1\n",
        "\\end{bmatrix}\n",
        "u \\\\\n",
        "u = \n",
        "-\\begin{bmatrix} \n",
        "5k & k\n",
        "\\end{bmatrix} x\n",
        "\\end{cases}\n",
        "$$\n",
        "\n",
        "You can chose any positive value of $k$ to design your controller. What is least-norm control gain (control gain is the matrix $\\begin{bmatrix} 5k & k \\end{bmatrix}$) that makes the system not only be stable, but also exhibit no oscillations in the transient process?"
      ]
    }
  ],
  "metadata": {
    "colab": {
      "include_colab_link": true,
      "name": "Assignment2.ipynb",
      "provenance": []
    },
    "kernelspec": {
      "display_name": "Python 3",
      "name": "python3"
    },
    "language_info": {
      "codemirror_mode": {
        "name": "ipython",
        "version": 3
      },
      "file_extension": ".py",
      "mimetype": "text/x-python",
      "name": "python",
      "nbconvert_exporter": "python",
      "pygments_lexer": "ipython3",
      "version": "3.9.7"
    }
  },
  "nbformat": 4,
  "nbformat_minor": 0
}
