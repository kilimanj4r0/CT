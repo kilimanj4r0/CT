{
  "nbformat": 4,
  "nbformat_minor": 0,
  "metadata": {
    "colab": {
      "name": "[Control theory] Practice 7.ipynb",
      "provenance": [],
      "collapsed_sections": [],
      "toc_visible": true
    },
    "kernelspec": {
      "name": "python3",
      "display_name": "Python 3"
    }
  },
  "cells": [
    {
      "cell_type": "markdown",
      "metadata": {
        "id": "zPmrTNlSBW-R"
      },
      "source": [
        "# **Practice 7: Discrete systems**\n",
        "## **Goals for today**\n",
        "\n",
        "---\n",
        "\n",
        "During today practice we will:\n",
        "* Discrete-time state space model\n",
        "* Stability theory for discrete case\n",
        "* Feedback control for discrete systems\n",
        "\n"
      ]
    },
    {
      "cell_type": "markdown",
      "source": [
        "## **Discrete-time state space model**"
      ],
      "metadata": {
        "id": "ocrd609UpN5_"
      }
    },
    {
      "cell_type": "markdown",
      "source": [
        "**Discrete-time systems** are either inherently discrete (e.g. models of bank accounts, national economy growth models, population growth models, digital words) or they are obtained as a result of sampling (discretization) of continuous-time systems. In such kinds of systems, inputs, state space variables, and outputs have the discrete form and the system models can be represented in the form of transition tables.\n",
        "\n",
        "The mathematical model of a discrete-time system can be written in terms of a recursive formula by using linear matrix **difference equations** as:\n",
        "\n",
        "\\begin{equation}\n",
        "\\begin{cases} \n",
        "\\mathbf{x} [(k+1)T] = \\mathbf{A_dx} [kT] + \\mathbf{B_du} [kT]\\\\\n",
        "\\mathbf{y} [kT] = \\mathbf{C_dx} [kT] + \\mathbf{D_du} [kT]\n",
        "\\end{cases} \n",
        "\\end{equation}\n",
        "\n",
        "where\n",
        "*   $\\mathbf{x} [(k+1)T]$ - system state vector in the future\n",
        "*   $\\mathbf{x} [kT]$ - current system state vector\n",
        "*   $\\mathbf{y} [kT]$ - current output vector\n",
        "*   $\\mathbf{u} [kT]$ - control inputs\n",
        "*   $\\mathbf{A_d}$ - discrete state matrix\n",
        "*   $\\mathbf{B_d}$ - discrete input matrix\n",
        "*   $\\mathbf{C_d}$ - discrete output matrix\n",
        "*   $\\mathbf{D_d}$ - discrete feedforward matrix\n",
        "\n",
        "Note that $\\mathbf{A_d}$ and $\\mathbf{B_d}$ are obtained for the time interval from to $0$ to $T$. It can easily be shown that due to system time invariance the same expressions for $\\mathbf{A_d}$ and $\\mathbf{B_d}$ are obtained for any time interval.\n"
      ],
      "metadata": {
        "id": "qdckblFdo3ZV"
      }
    },
    {
      "cell_type": "markdown",
      "source": [
        "## **Approximations**\n",
        "Real physical dynamic systems are continuous in nature, but since computers are discrete in idea, let's look at an example of transformation from continuous systems to discrete.\n",
        "\n",
        "Let's compare discrete model with continuous-time state space:\n",
        "\\begin{equation}\n",
        "\\begin{cases} \n",
        "\\mathbf{\\dot{x}} =\\mathbf{A}\\mathbf{x} + \\mathbf{B}\\mathbf{u} \\\\ \n",
        "\\mathbf{y}=\\mathbf{C}\\mathbf{x} + \\mathbf{D}\\mathbf{u}\n",
        "\\end{cases}\n",
        "\\end{equation}\n",
        "\n",
        "Let's apply the **Euler method** for the first equation. It is based on the approximation of the first derivative at $t = kT$:\n",
        "\\begin{equation}\n",
        "\\mathbf{\\dot{x}} = \\frac{d\\mathbf{x}}{dt} \\approx \\frac{1}{T}\\left(\\mathbf{x} [(k+1)T] - \\mathbf{x}[kT]\\right)\n",
        "\\end{equation}\n",
        "\n",
        "Applying this approximative formula to the state space system equation, we have:\n",
        "\n",
        "\\begin{equation}\n",
        "\\frac{1}{T}\\left(\\mathbf{x} [(k+1)T] - \\mathbf{x}[kT]\\right) \\approx \\mathbf{A}\\mathbf{x}[kT] + \\mathbf{B}\\mathbf{u}[kT]\n",
        "\\end{equation}\n",
        "\n",
        "So, after the little changes we obtain:\n",
        "\\begin{equation}\n",
        "\\mathbf{x} [(k+1)T] \\approx (I+T\\mathbf{A})\\mathbf{x}[kT] + T\\mathbf{B}\\mathbf{u}[kT]\n",
        "\\end{equation}\n",
        "\n",
        "Then we can conclude that $\\mathbf{A_d} = (I+T\\mathbf{A})$ and $\\mathbf{B_d} = T\\mathbf{B}$"
      ],
      "metadata": {
        "id": "k96lffmSvVCK"
      }
    },
    {
      "cell_type": "markdown",
      "source": [
        "### **Example**"
      ],
      "metadata": {
        "id": "CQ0eWRRDy3WW"
      }
    },
    {
      "cell_type": "markdown",
      "source": [
        "> **Mass-spring-damper system**\n",
        ">\n",
        ">Consider a following unforced system:\n",
        ">\n",
        "><p><img alt=\"mbk\" height=\"250px\" src=\"https://drive.google.com/uc?id=1ouEckIc8hm6IOTJ5uGVJHCwx2tBeyKj8\" align=\"center\" hspace=\"350px\" vspace=\"0px\"></p>\n",
        ">\n",
        ">Dynamics of this system desribed by following ODE:\n",
        "\\begin{equation}\n",
        "m\\ddot{y} + b \\dot{y} + k y = u\n",
        "\\end{equation}\n",
        ">\n",
        ">And one can formulate this system in state space as:\n",
        "\\begin{equation}\n",
        "\\dot{\\mathbf{x}}\n",
        " = \\mathbf{A}\\mathbf{x} + \\mathbf{B}\\mathbf{u} =\n",
        "\\begin{bmatrix}\n",
        "\\dot{y}\\\\\n",
        "\\ddot{y}\n",
        "\\end{bmatrix}\n",
        "=\n",
        "\\begin{bmatrix}\n",
        "0 & 1\\\\\n",
        "-\\frac{k}{m} & -\\frac{b}{m}\n",
        "\\end{bmatrix}\n",
        " \\begin{bmatrix}\n",
        "y\\\\\n",
        "\\dot{y}\n",
        "\\end{bmatrix}+\n",
        "\\begin{bmatrix}\n",
        "0\\\\\n",
        "\\frac{1}{m}\n",
        "\\end{bmatrix}\n",
        "u\n",
        "\\end{equation}\n",
        ">\n",
        "> In discrete space this model will have a following form:\n",
        "> \\begin{equation}\n",
        "\\mathbf{x}[(k+1)T]\n",
        " = \\mathbf{A_d}\\mathbf{x}[kT] + \\mathbf{B_d}\\mathbf{u}[kT] =\n",
        "\\begin{bmatrix}\n",
        "y[(k+1)T]\\\\\n",
        "y[(k+2)T]\n",
        "\\end{bmatrix}\n",
        "=\n",
        "\\begin{bmatrix}\n",
        "1 & 1\\\\\n",
        "-\\frac{k}{m}T & 1-\\frac{b}{m}T\n",
        "\\end{bmatrix}\n",
        " \\begin{bmatrix}\n",
        "y[kT]\\\\\n",
        "y[(k+1)T]\n",
        "\\end{bmatrix}+\n",
        "\\begin{bmatrix}\n",
        "0\\\\\n",
        "\\frac{1}{m}T\n",
        "\\end{bmatrix}\n",
        "u[kT]\n",
        "\\end{equation}"
      ],
      "metadata": {
        "id": "_Vta3AHcyZIk"
      }
    },
    {
      "cell_type": "markdown",
      "source": [
        ">### **Exercise**\n",
        ">Find the exact and approximate descretization of the following systems. \n",
        "* $\\dot x = \n",
        "\\begin{bmatrix} 10 & 0 \\\\ -5 & 10\n",
        "\\end{bmatrix}\n",
        "x\n",
        "+\n",
        "\\begin{bmatrix} \n",
        "2 \\\\ 0\n",
        "\\end{bmatrix}\n",
        "u\n",
        "$\\\n",
        ">\\\n",
        ">when $T=0.1$ sec\n",
        ">\n",
        ">* $\\dot x = \n",
        "\\begin{bmatrix} 2 & 2 \\\\ -6 & 10\n",
        "\\end{bmatrix}\n",
        "x\n",
        "+\n",
        "\\begin{bmatrix} \n",
        "0 & -1 \\\\ 5 & -1\n",
        "\\end{bmatrix}\n",
        "u\n",
        "$\\\n",
        ">\\\n",
        ">when $T = 0.5$ sec"
      ],
      "metadata": {
        "id": "TDjeTBuG9nVe"
      }
    },
    {
      "cell_type": "markdown",
      "source": [
        "## **Solution of the Discrete-Time state equation**\n",
        "\n",
        "We find the solution of the difference state equation for the given initial state $\\mathbf{x}[0]$ and the input signal $\\mathbf{u}[kT]$. From the state equation:\n",
        "$$\n",
        "\\mathbf{x} [(k+1)T] = \\mathbf{A_dx} [kT] + \\mathbf{B_du} [kT]\\\n",
        "$$\n",
        "for $k = 1, 2 ...$ it follows:\n",
        "$$\n",
        "\\mathbf{x}[T] = \\mathbf{A_dx} [0] + \\mathbf{B_du} [0]\\\\\n",
        "\\mathbf{x}[2T] = \\mathbf{A_dx} [T] + \\mathbf{B_du} [T] = \\mathbf{A_d}^2\\mathbf{x} [0] + \\mathbf{A_d}\\mathbf{B_du} [0] + \\mathbf{B_du} [T] \\\\\n",
        "\\mathbf{x}[3T] = \\mathbf{A_dx} [2T] + \\mathbf{B_du} [2T] = \\mathbf{A_d}^3\\mathbf{x} [0] + \\mathbf{A_d}^2\\mathbf{B_du} [0] + \\mathbf{A_d}\\mathbf{B_du} [T]+\\mathbf{B_du} [2T] \\\\\n",
        "\\vdots \\\\\n",
        "\\mathbf{x}[kT] =  \\mathbf{A_dx} [(k-1)T] + \\mathbf{B_du} [(k-1)T] = \\mathbf{A_d}^2\\mathbf{x} [0] + \\sum^{k-1}_{i=0} \\mathbf{A_d}^{k-i-1}\\mathbf{B_du} [i]\n",
        "$$\n",
        "\n"
      ],
      "metadata": {
        "id": "xNFwQZs_0dK2"
      }
    },
    {
      "cell_type": "markdown",
      "source": [
        "## **Stability**\n",
        "\n",
        "The concepts of stability is fairly general and can be applied to the descrete time systems, however, in this case solutions may be analized directly, and stability criterias are the following:\n",
        "\n",
        "\n",
        "*   Asymptotically stable $|\\lambda_i| = \\sqrt{\\operatorname{Re}(\\lambda_i)^2 + \\operatorname{Im}(\\lambda_i)^2} < 1,\\forall i$ \n",
        "*   Lyapunov stable: $ |\\lambda_i|\\leq 1,\\forall i$\n",
        "*   Unstable: $\\exists\\lambda_i, |\\lambda_i|>1 $"
      ],
      "metadata": {
        "id": "-vkIPnsh_tfU"
      }
    },
    {
      "cell_type": "code",
      "source": [
        "import numpy as np\n",
        "from matplotlib.pyplot import *\n",
        "from scipy.integrate import odeint\n",
        "\n",
        "def StateSpace_without_control(x, t, A):\n",
        "  return np.dot(A,x)\n",
        "\n",
        "#@markdown Mass-spring-damper parameters\n",
        "\n",
        "m = 1 #@param {type:\"slider\", min:0, max:10, step:1}\n",
        "k = 5 #@param {type:\"slider\", min:0, max:5, step:0.1}\n",
        "b = 2 #@param {type:\"slider\", min:0, max:5, step:0.1}\n",
        "T = 0.102 #@param {type:\"slider\", min:0.001, max:1, step:0.001}\n",
        "\n",
        "t0 = 0\n",
        "tf = 10\n",
        "t = np.arange(t0, tf, T)\n",
        "\n",
        "A = np.array([[0, 1],\n",
        "              [-k/m, -b/m]])\n",
        "\n",
        "B = np.array([[0],\n",
        "              [1/m]])\n",
        "\n",
        "x0 = np.array([-4, 0])\n",
        "\n",
        "x_d = x0\n",
        "x_disc = x0\n",
        "\n",
        "A_d = np.eye(2) + T*A\n",
        "\n",
        "# Simulation for discrete time model\n",
        "for time in t:\n",
        "  x_d = A_d @ x_d\n",
        "  x_disc = np.vstack((x_disc, x_d))\n",
        "\n",
        "y_disc, dy_disc = x_disc[:,0], x_disc[:,1] \n",
        "t_disc = np.insert(t, 0, 0)\n",
        "\n",
        "# Simulation for continuous time model\n",
        "x_sol = odeint(StateSpace_without_control, x0, t, args=(A,))\n",
        "\n",
        "y_cont, dy_cont = x_sol[:,0], x_sol[:,1]\n",
        "\n",
        "plot(t, y_cont, 'r', linewidth=2.0, label = r'Position $y_c$ (m)', alpha = 0.5)\n",
        "step(t_disc, y_disc, 'r', linewidth=2.0, label = r'Position $y_d$ (m)')\n",
        "plot(t, dy_cont, 'b', linewidth=2.0, label = r'Velocity $\\dot{y_c}$ (m/s)', alpha = 0.5)\n",
        "step(t_disc, dy_disc, 'b', linewidth=2.0, label = r'Velocity $\\dot{y_d}$ (m/s)')\n",
        "legend()\n",
        "grid(color='black', linestyle='--', linewidth=1.0, alpha = 0.7)\n",
        "grid(True)\n",
        "xlim([t0, tf])\n",
        "ylabel(r'System state')\n",
        "xlabel(r'Time $t$ (s)')\n",
        "show()\n",
        "\n",
        "plot(y_cont, dy_cont, 'r', linewidth = 2., alpha = 0.5, label = 'Continuous model')\n",
        "step(y_disc, dy_disc, 'r', linewidth = 2., label = 'Discrete model')\n",
        "legend()\n",
        "grid(color='black', linestyle='--', linewidth=1.0, alpha = 0.7)\n",
        "grid(True)\n",
        "ylabel(r'Velocity $\\dot{y}$ (m/s)')\n",
        "xlabel(r'Position $y$ (m)')\n",
        "xlim([-10, 10])\n",
        "ylim([-10, 10])\n",
        "show()"
      ],
      "metadata": {
        "colab": {
          "base_uri": "https://localhost:8080/",
          "height": 552
        },
        "id": "eY5Id0j4AGLo",
        "outputId": "93173eb7-029d-43e2-9aab-9ec63800b384"
      },
      "execution_count": null,
      "outputs": [
        {
          "output_type": "display_data",
          "data": {
            "image/png": "[encoded data removed]",
            "text/plain": [
              "<Figure size 432x288 with 1 Axes>"
            ]
          },
          "metadata": {
            "needs_background": "light"
          }
        },
        {
          "output_type": "display_data",
          "data": {
            "image/png": "[encoded data removed]",
            "text/plain": [
              "<Figure size 432x288 with 1 Axes>"
            ]
          },
          "metadata": {
            "needs_background": "light"
          }
        }
      ]
    },
    {
      "cell_type": "markdown",
      "source": [
        "## **Descrete Feedback**\n",
        "\n",
        "The general form of feedback that may stabilize our system is linear as well as for continues time system:\n",
        "\\begin{equation}\n",
        "\\mathbf{u}[kT]=-\\mathbf{K}\\mathbf{x}[kT]\n",
        "\\end{equation}\n",
        "\n",
        "## **Pole Placement for descrete systems**\n",
        "\n",
        "Previously we have designed a stable poles for continues time systems by placing them on the left hand side of comple plane. In case of descrete time systems we should place them inside of **unit circle**\n"
      ],
      "metadata": {
        "id": "IKKfgjO8Iuif"
      }
    },
    {
      "cell_type": "markdown",
      "source": [
        ">### **Example**"
      ],
      "metadata": {
        "id": "OJd5A1FgJcGU"
      }
    },
    {
      "cell_type": "markdown",
      "source": [
        "> **Model of Love**\\\n",
        ">Let us consider the example of \"love\" equations given in the first practice:\n",
        "$$\n",
        "\\begin{cases}\n",
        "\\dot{R}=aR+bJ \\\\\n",
        "\\dot{J}=cR+dJ\n",
        "\\end{cases}\n",
        "$$\n",
        ">\n",
        ">when $R$ and $J$ are time depended functions of Romeo's or Juliet's love (or hate if negative) and $a$, $b$, $c$ and $d$ is constants that determine the \"Romantic styles\". \n",
        ">Suppose we can control Romeo's feelings with the coefficient $e$. So our control system will have following form:\n",
        "\\begin{equation}\n",
        "\\begin{bmatrix}\n",
        "\\dot{R} \\\\\n",
        "\\dot{J} \n",
        "\\end{bmatrix} = \n",
        "\\begin{bmatrix}\n",
        "a & b \\\\\n",
        "c & d \n",
        "\\end{bmatrix}\n",
        "\\begin{bmatrix}\n",
        "R \\\\\n",
        "J \n",
        "\\end{bmatrix} +\n",
        "\\begin{bmatrix}\n",
        "e \\\\0 \n",
        "\\end{bmatrix}\n",
        "u\n",
        "\\end{equation}\n",
        ">\n",
        ">Let's set the control signal to the following form:\n",
        "$u = -\\begin{bmatrix}\n",
        "k_1 & k_2 \n",
        "\\end{bmatrix}\\begin{bmatrix}\n",
        "R \\\\\n",
        "J \n",
        "\\end{bmatrix}$\n",
        ">\n",
        "> Also consider that we may meet with Romeo every few days, the difference in our meetings we denote as $T$, thus after all of our changes we get following descrete system:\n",
        "\\begin{equation}\n",
        "\\begin{bmatrix}\n",
        "R[(k+1)T] \\\\\n",
        "J[(k+1)T] \n",
        "\\end{bmatrix} = \n",
        "\\left(\\begin{bmatrix}\n",
        "1+aT & bT \\\\\n",
        "cT & 1+dT \n",
        "\\end{bmatrix}-\\begin{bmatrix}\n",
        "eT \\\\0 \n",
        "\\end{bmatrix}\\begin{bmatrix}\n",
        "k_1 & k_2 \n",
        "\\end{bmatrix} \\right)\n",
        "\\begin{bmatrix}\n",
        "R [kT]\\\\\n",
        "J [kT]\n",
        "\\end{bmatrix}\n",
        "\\end{equation}"
      ],
      "metadata": {
        "id": "qAiXYCpaJXmp"
      }
    },
    {
      "cell_type": "code",
      "source": [
        "from scipy.signal import place_poles\n",
        "\n",
        "#@markdown Romeo's parameters\n",
        "a = 0 #@param {type:\"slider\", min:-10, max:10, step:1}\n",
        "b = 5 #@param {type:\"slider\", min:-10, max:10, step:1}\n",
        "\n",
        "#@markdown Juliet's parameters\n",
        "c = 3 #@param {type:\"slider\", min:-10, max:10, step:1}\n",
        "d = 0 #@param {type:\"slider\", min:-10, max:10, step:1}\n",
        "\n",
        "#@markdown How much did Romeo and Juliet like each other at first sight?\n",
        "R_0 = 1 #@param {type:\"slider\", min:-10, max:10, step:1}\n",
        "J_0 = 1 #@param {type:\"slider\", min:-10, max:10, step:1}\n",
        "\n",
        "#@markdown Control parameters\n",
        "e = 1 #@param {type:\"slider\", min:-10, max:10, step:1}\n",
        "\n",
        "#@markdown Discretization time\n",
        "T = 0.5 #@param {type:\"slider\", min:0.01, max:0.5, step:0.01}\n",
        "\n",
        "#@markdown Poles parameters\n",
        "p1 = 0.4 #@param {type:\"slider\", min:-2, max:2, step:0.1}\n",
        "p2 = 0.3 #@param {type:\"slider\", min:-2, max:2, step:0.1}\n",
        "\n",
        "A = np.array([[a, b],\n",
        "              [c, d]])\n",
        "\n",
        "B = np.array([[e],\n",
        "              [0]])\n",
        "\n",
        "x0 = np.array([R_0,\n",
        "               J_0])  # initial state\n",
        "\n",
        "t = np.arange(t0, tf, T)\n",
        "\n",
        "A_d = np.eye(2) + T*A\n",
        "B_d = T*B\n",
        "\n",
        "P = np.array([p1, p2])\n",
        "pp = place_poles(A_d, B_d, P)\n",
        "K = pp.gain_matrix\n",
        "\n",
        "x_d = x0\n",
        "love = x0\n",
        "\n",
        "for time in t:\n",
        "  u_d = - np.dot(K,x_d)  \n",
        "  x_d = np.dot(A_d,x_d) + np.dot(B_d,u_d)\n",
        "  love = np.vstack((love, x_d))\n",
        "\n",
        "y_disc, dy_disc = x_disc[:,0], x_disc[:,1] \n",
        "t_disc = np.insert(t, 0, 0)\n",
        "\n",
        "R, J = love[:,0], love[:,1]\n",
        "\n",
        "step(t_disc, R, linewidth=2.0, color = 'b', label = \"Romeo\")\n",
        "step(t_disc, J, linewidth=2.0, color = 'm', label = \"Juliet\")\n",
        "grid(True, color='black', linestyle='--', linewidth=1.0, alpha = 0.7)\n",
        "ylabel(r'Level of love ${X}$')\n",
        "xlabel(r'Time $t$')\n",
        "legend()\n",
        "show()\n",
        "\n",
        "Lambda, Q = np.linalg.eig(A_d)\n",
        "print(f\"Eigen values of original system:\\n{Lambda}\\n\")\n",
        "\n",
        "Lambda, Q = np.linalg.eig(A_d-np.dot(B_d, K))\n",
        "print(f\"Eigen values for system with control:\\n{Lambda}\")"
      ],
      "metadata": {
        "colab": {
          "base_uri": "https://localhost:8080/",
          "height": 368
        },
        "id": "2KLURuAcJQpk",
        "outputId": "6f48193a-bf96-431c-9440-3f1c3b01a2a9"
      },
      "execution_count": null,
      "outputs": [
        {
          "output_type": "display_data",
          "data": {
            "image/png": "[encoded data removed]",
            "text/plain": [
              "<Figure size 432x288 with 1 Axes>"
            ]
          },
          "metadata": {
            "needs_background": "light"
          }
        },
        {
          "output_type": "stream",
          "name": "stdout",
          "text": [
            "Eigen values of original system:\n",
            "[ 2.93649167 -0.93649167]\n",
            "\n",
            "Eigen values for system with control:\n",
            "[0.3 0.4]\n"
          ]
        }
      ]
    },
    {
      "cell_type": "markdown",
      "source": [
        ">### **Exercises**\n",
        ">\n",
        ">1. Find the gains $k_1, k_2$ that will stabilize the following system:\n",
        "> * $\\dot{\\mathbf{x}} = \n",
        "\\begin{bmatrix} 0 & 1\\\\\n",
        " -7 & -7 \\end{bmatrix} \n",
        "    \\mathbf{x} + \n",
        "    \\begin{bmatrix} 0 \\\\ 1 \\end{bmatrix} \\mathbf{u}\n",
        "  $\\\n",
        "  >\\\n",
        "  >with $T = 0.1$ sec\n",
        ">\n",
        ">* $\\mathbf{\\dot{x}}=\\begin{bmatrix}\n",
        "10 & 5\\\\\n",
        "-5 & -10\n",
        "\\end{bmatrix}\\mathbf{x} + \\begin{bmatrix}\n",
        "-1\\\\\n",
        "2\n",
        "\\end{bmatrix}\\mathbf{u}\n",
        "  $\\\n",
        "  >\\\n",
        "  with $T = 0.6$ sec\n",
        ">\n",
        ">* $\\mathbf{\\dot{x}}=\\begin{bmatrix}-8 & 1 \\\\ -2 & 2\n",
        "\\end{bmatrix}\\mathbf{x} + \\begin{bmatrix}\n",
        "2\\\\\n",
        "0\n",
        "\\end{bmatrix}\\mathbf{u}\n",
        "  $\\\n",
        "  >\\\n",
        "  with $T = 0.2$ sec\n",
        ">\n",
        "> 2. At what time step will the motor stop being stable?  A simplified model of the motor dynamics for this situation:\n",
        "> $$I\\ddot{\\theta}+b\\dot{\\theta} = K_m I$$\n",
        "> when $I$ - motor rotor moment of inertia, $b$ - coefficient of viscous friction, $K_m$ - motor torque constant. \n",
        "> 3. Create a motor position control model with discretization time of $T = 0.1$ sec"
      ],
      "metadata": {
        "id": "CAifcIjCO6vr"
      }
    }
  ]
}